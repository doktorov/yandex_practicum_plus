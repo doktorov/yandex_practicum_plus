{
 "cells": [
  {
   "cell_type": "markdown",
   "metadata": {
    "pycharm": {
     "name": "#%% md\n"
    }
   },
   "source": [
    "Привет! меня зовут Люман Аблаев. Сегодня я проверю твой проект.\n",
    "<br> Дальнейшее общение будет происходить на \"ты\" если это не вызывает никаких проблем.\n",
    "<br> Желательно реагировать на красные комментарии ('исправил', 'не понятно как исправить ошибку', ...)\n",
    "<br> Пожалуйста, не удаляй комментарии ревьюера, так как они повышают качество повторного ревью.\n",
    "\n",
    "Комментарии будут в <font color='green'>зеленой</font>, <font color='blue'>синей</font> или <font color='red'>красной</font> рамках:\n",
    "\n",
    "\n",
    "<div class=\"alert alert-block alert-success\">\n",
    "<b>Успех:</b> Если все сделано отлично\n",
    "</div>\n",
    "\n",
    "<div class=\"alert alert-block alert-info\">\n",
    "<b>Совет: </b> Если можно немного улучшить\n",
    "</div>\n",
    "\n",
    "<div class=\"alert alert-block alert-danger\">\n",
    "<b>Ошибка:</b> Если требуются исправления. Работа не может быть принята с красными комментариями.\n",
    "</div>\n",
    "\n",
    "-------------------\n",
    "\n",
    "Будет очень хорошо, если ты будешь помечать свои действия следующим образом:\n",
    "<div class=\"alert alert-block alert-warning\">\n",
    "<b>Комментарий студента:</b> ..\n",
    "</div>\n",
    "<div class=\"alert alert-block alert-warning\">\n",
    "<b>Изменения:</b> Были внесены следующие изменения ...\n",
    "</div>\n",
    "\n",
    "<font color='orange' style='font-size:24px; font-weight:bold'>Полезные ссылки</font>\n",
    "* Очень интересная и полезная статья: https://dyakonov.org/2021/05/27/imbalance/\n",
    "\n",
    "<font color='orange' style='font-size:24px; font-weight:bold'>Общее впечатление</font>\n",
    "* Спасибо за  качественную работу, видно, что приложено много усилий.\n",
    "- Я оставил некоторые советы, надеюсь они будут полезными или интересными.\n",
    "- Есть некоторые недочеты, которые нужно поправить, но у тебя это не должно занять много времени)\n",
    "- Жду обновленную работу"
   ]
  },
  {
   "cell_type": "markdown",
   "metadata": {
    "pycharm": {
     "name": "#%% md\n"
    }
   },
   "source": [
    "<font color='orange' style='font-size:24px; font-weight:bold'>Общее впечатление[3]</font>\n",
    "* Спасибо за оперативность\n",
    "- Недочеты исправлены - работа полностью корректна\n",
    "- Рад был быть полезен. Удачи в дальнейшем обучении!\n",
    "\n"
   ]
  },
  {
   "cell_type": "markdown",
   "metadata": {
    "toc": true,
    "pycharm": {
     "name": "#%% md\n"
    }
   },
   "source": [
    "<h1>Содержание<span class=\"tocSkip\"></span></h1>\n",
    "<div class=\"toc\"><ul class=\"toc-item\"><li><span><a href=\"#Подготовка-данных\" data-toc-modified-id=\"Подготовка-данных-1\"><span class=\"toc-item-num\">1&nbsp;&nbsp;</span>Подготовка данных</a></span></li><li><span><a href=\"#Исследование-задачи\" data-toc-modified-id=\"Исследование-задачи-2\"><span class=\"toc-item-num\">2&nbsp;&nbsp;</span>Исследование задачи</a></span></li><li><span><a href=\"#Борьба-с-дисбалансом\" data-toc-modified-id=\"Борьба-с-дисбалансом-3\"><span class=\"toc-item-num\">3&nbsp;&nbsp;</span>Борьба с дисбалансом</a></span></li><li><span><a href=\"#Тестирование-модели\" data-toc-modified-id=\"Тестирование-модели-4\"><span class=\"toc-item-num\">4&nbsp;&nbsp;</span>Тестирование модели</a></span></li><li><span><a href=\"#Чек-лист-готовности-проекта\" data-toc-modified-id=\"Чек-лист-готовности-проекта-5\"><span class=\"toc-item-num\">5&nbsp;&nbsp;</span>Чек-лист готовности проекта</a></span></li></ul></div>"
   ]
  },
  {
   "cell_type": "markdown",
   "metadata": {
    "pycharm": {
     "name": "#%% md\n"
    }
   },
   "source": [
    "# Отток клиентов"
   ]
  },
  {
   "cell_type": "markdown",
   "metadata": {
    "pycharm": {
     "name": "#%% md\n"
    }
   },
   "source": [
    "Из «Бета-Банка» стали уходить клиенты. Каждый месяц. Немного, но заметно. Банковские маркетологи посчитали: сохранять текущих клиентов дешевле, чем привлекать новых.\n",
    "\n",
    "Нужно спрогнозировать, уйдёт клиент из банка в ближайшее время или нет. Вам предоставлены исторические данные о поведении клиентов и расторжении договоров с банком. \n",
    "\n",
    "Постройте модель с предельно большим значением *F1*-меры. Чтобы сдать проект успешно, нужно довести метрику до 0.59. Проверьте *F1*-меру на тестовой выборке самостоятельно.\n",
    "\n",
    "Дополнительно измеряйте *AUC-ROC*, сравнивайте её значение с *F1*-мерой.\n",
    "\n",
    "Источник данных: [https://www.kaggle.com/barelydedicated/bank-customer-churn-modeling](https://www.kaggle.com/barelydedicated/bank-customer-churn-modeling)"
   ]
  },
  {
   "cell_type": "markdown",
   "metadata": {
    "pycharm": {
     "name": "#%% md\n"
    }
   },
   "source": [
    "Цель:\n",
    "\n",
    "Нужно спрогнозировать, уйдёт клиент из банка в ближайшее время или нет. \n",
    "\n",
    "План:\n",
    "\n",
    "- Загрузить и подготовить данные.\n",
    "- Исследовать баланс классов, обучить модель без учёта дисбаланса.\n",
    "- Улучшить качество модели, учитывая дисбаланс классов. Обучить разные модели и найдите лучшую.\n",
    "- Провести финальное тестирование."
   ]
  },
  {
   "cell_type": "markdown",
   "metadata": {
    "pycharm": {
     "name": "#%% md\n"
    }
   },
   "source": [
    "## Подготовка данных"
   ]
  },
  {
   "cell_type": "code",
   "execution_count": 1,
   "metadata": {
    "pycharm": {
     "name": "#%%\n"
    }
   },
   "outputs": [],
   "source": [
    "import os\n",
    "import pandas as pd\n",
    "import matplotlib.pyplot as plt\n",
    "import seaborn as sns\n",
    "import numpy as np\n",
    "\n",
    "# импорт библиотек для моделей машинного обучения классификации\n",
    "from sklearn.tree import DecisionTreeClassifier\n",
    "from sklearn.ensemble import RandomForestClassifier\n",
    "from sklearn.linear_model import LogisticRegression\n",
    "from sklearn.model_selection import train_test_split\n",
    "from sklearn.preprocessing import OrdinalEncoder\n",
    "from sklearn.preprocessing import StandardScaler\n",
    "from sklearn.metrics import f1_score\n",
    "from sklearn.utils import shuffle\n",
    "from sklearn.metrics import roc_curve\n",
    "from sklearn.metrics import roc_auc_score\n",
    "from sklearn.metrics import accuracy_score\n",
    "from sklearn.metrics import confusion_matrix\n",
    "from sklearn.metrics import recall_score\n",
    "from sklearn.metrics import precision_score\n",
    "\n",
    "import time\n",
    "import warnings\n",
    "warnings.filterwarnings(\"ignore\")"
   ]
  },
  {
   "cell_type": "markdown",
   "metadata": {
    "pycharm": {
     "name": "#%% md\n"
    }
   },
   "source": [
    "\n",
    "<div class=\"alert alert-block alert-success\">\n",
    "<b>Успех:</b> Импорты на месте\n",
    "</div>"
   ]
  },
  {
   "cell_type": "code",
   "execution_count": 2,
   "metadata": {
    "pycharm": {
     "name": "#%%\n"
    }
   },
   "outputs": [],
   "source": [
    "# Отображение всех колонок таблиц\n",
    "pd.set_option('display.max_columns', None)"
   ]
  },
  {
   "cell_type": "code",
   "execution_count": 3,
   "metadata": {
    "pycharm": {
     "name": "#%%\n"
    }
   },
   "outputs": [],
   "source": [
    "pth1 = 'Churn.csv'\n",
    "pth2 = '/datasets/Churn.csv'\n",
    "\n",
    "if os.path.exists(pth1):\n",
    "    df.read_csv(pth1)\n",
    "elif os.path.exists(pth2):\n",
    "    df = pd.read_csv(pth2)\n",
    "else:\n",
    "    print('Произошла ошибка')"
   ]
  },
  {
   "cell_type": "code",
   "execution_count": 4,
   "metadata": {
    "scrolled": true,
    "pycharm": {
     "name": "#%%\n"
    }
   },
   "outputs": [
    {
     "name": "stdout",
     "output_type": "stream",
     "text": [
      "<class 'pandas.core.frame.DataFrame'>\n",
      "RangeIndex: 10000 entries, 0 to 9999\n",
      "Data columns (total 14 columns):\n",
      " #   Column           Non-Null Count  Dtype  \n",
      "---  ------           --------------  -----  \n",
      " 0   RowNumber        10000 non-null  int64  \n",
      " 1   CustomerId       10000 non-null  int64  \n",
      " 2   Surname          10000 non-null  object \n",
      " 3   CreditScore      10000 non-null  int64  \n",
      " 4   Geography        10000 non-null  object \n",
      " 5   Gender           10000 non-null  object \n",
      " 6   Age              10000 non-null  int64  \n",
      " 7   Tenure           9091 non-null   float64\n",
      " 8   Balance          10000 non-null  float64\n",
      " 9   NumOfProducts    10000 non-null  int64  \n",
      " 10  HasCrCard        10000 non-null  int64  \n",
      " 11  IsActiveMember   10000 non-null  int64  \n",
      " 12  EstimatedSalary  10000 non-null  float64\n",
      " 13  Exited           10000 non-null  int64  \n",
      "dtypes: float64(3), int64(8), object(3)\n",
      "memory usage: 1.1+ MB\n"
     ]
    },
    {
     "data": {
      "text/html": [
       "<div>\n",
       "<style scoped>\n",
       "    .dataframe tbody tr th:only-of-type {\n",
       "        vertical-align: middle;\n",
       "    }\n",
       "\n",
       "    .dataframe tbody tr th {\n",
       "        vertical-align: top;\n",
       "    }\n",
       "\n",
       "    .dataframe thead th {\n",
       "        text-align: right;\n",
       "    }\n",
       "</style>\n",
       "<table border=\"1\" class=\"dataframe\">\n",
       "  <thead>\n",
       "    <tr style=\"text-align: right;\">\n",
       "      <th></th>\n",
       "      <th>RowNumber</th>\n",
       "      <th>CustomerId</th>\n",
       "      <th>Surname</th>\n",
       "      <th>CreditScore</th>\n",
       "      <th>Geography</th>\n",
       "      <th>Gender</th>\n",
       "      <th>Age</th>\n",
       "      <th>Tenure</th>\n",
       "      <th>Balance</th>\n",
       "      <th>NumOfProducts</th>\n",
       "      <th>HasCrCard</th>\n",
       "      <th>IsActiveMember</th>\n",
       "      <th>EstimatedSalary</th>\n",
       "      <th>Exited</th>\n",
       "    </tr>\n",
       "  </thead>\n",
       "  <tbody>\n",
       "    <tr>\n",
       "      <th>0</th>\n",
       "      <td>1</td>\n",
       "      <td>15634602</td>\n",
       "      <td>Hargrave</td>\n",
       "      <td>619</td>\n",
       "      <td>France</td>\n",
       "      <td>Female</td>\n",
       "      <td>42</td>\n",
       "      <td>2.0</td>\n",
       "      <td>0.00</td>\n",
       "      <td>1</td>\n",
       "      <td>1</td>\n",
       "      <td>1</td>\n",
       "      <td>101348.88</td>\n",
       "      <td>1</td>\n",
       "    </tr>\n",
       "    <tr>\n",
       "      <th>1</th>\n",
       "      <td>2</td>\n",
       "      <td>15647311</td>\n",
       "      <td>Hill</td>\n",
       "      <td>608</td>\n",
       "      <td>Spain</td>\n",
       "      <td>Female</td>\n",
       "      <td>41</td>\n",
       "      <td>1.0</td>\n",
       "      <td>83807.86</td>\n",
       "      <td>1</td>\n",
       "      <td>0</td>\n",
       "      <td>1</td>\n",
       "      <td>112542.58</td>\n",
       "      <td>0</td>\n",
       "    </tr>\n",
       "    <tr>\n",
       "      <th>2</th>\n",
       "      <td>3</td>\n",
       "      <td>15619304</td>\n",
       "      <td>Onio</td>\n",
       "      <td>502</td>\n",
       "      <td>France</td>\n",
       "      <td>Female</td>\n",
       "      <td>42</td>\n",
       "      <td>8.0</td>\n",
       "      <td>159660.80</td>\n",
       "      <td>3</td>\n",
       "      <td>1</td>\n",
       "      <td>0</td>\n",
       "      <td>113931.57</td>\n",
       "      <td>1</td>\n",
       "    </tr>\n",
       "    <tr>\n",
       "      <th>3</th>\n",
       "      <td>4</td>\n",
       "      <td>15701354</td>\n",
       "      <td>Boni</td>\n",
       "      <td>699</td>\n",
       "      <td>France</td>\n",
       "      <td>Female</td>\n",
       "      <td>39</td>\n",
       "      <td>1.0</td>\n",
       "      <td>0.00</td>\n",
       "      <td>2</td>\n",
       "      <td>0</td>\n",
       "      <td>0</td>\n",
       "      <td>93826.63</td>\n",
       "      <td>0</td>\n",
       "    </tr>\n",
       "    <tr>\n",
       "      <th>4</th>\n",
       "      <td>5</td>\n",
       "      <td>15737888</td>\n",
       "      <td>Mitchell</td>\n",
       "      <td>850</td>\n",
       "      <td>Spain</td>\n",
       "      <td>Female</td>\n",
       "      <td>43</td>\n",
       "      <td>2.0</td>\n",
       "      <td>125510.82</td>\n",
       "      <td>1</td>\n",
       "      <td>1</td>\n",
       "      <td>1</td>\n",
       "      <td>79084.10</td>\n",
       "      <td>0</td>\n",
       "    </tr>\n",
       "  </tbody>\n",
       "</table>\n",
       "</div>"
      ],
      "text/plain": [
       "   RowNumber  CustomerId   Surname  CreditScore Geography  Gender  Age  \\\n",
       "0          1    15634602  Hargrave          619    France  Female   42   \n",
       "1          2    15647311      Hill          608     Spain  Female   41   \n",
       "2          3    15619304      Onio          502    France  Female   42   \n",
       "3          4    15701354      Boni          699    France  Female   39   \n",
       "4          5    15737888  Mitchell          850     Spain  Female   43   \n",
       "\n",
       "   Tenure    Balance  NumOfProducts  HasCrCard  IsActiveMember  \\\n",
       "0     2.0       0.00              1          1               1   \n",
       "1     1.0   83807.86              1          0               1   \n",
       "2     8.0  159660.80              3          1               0   \n",
       "3     1.0       0.00              2          0               0   \n",
       "4     2.0  125510.82              1          1               1   \n",
       "\n",
       "   EstimatedSalary  Exited  \n",
       "0        101348.88       1  \n",
       "1        112542.58       0  \n",
       "2        113931.57       1  \n",
       "3         93826.63       0  \n",
       "4         79084.10       0  "
      ]
     },
     "execution_count": 4,
     "metadata": {},
     "output_type": "execute_result"
    }
   ],
   "source": [
    "df.info()\n",
    "df.head()"
   ]
  },
  {
   "cell_type": "markdown",
   "metadata": {
    "pycharm": {
     "name": "#%% md\n"
    }
   },
   "source": [
    "В поле Tensure много пропусков. Должно быть 10000 значений, мы имеем 9091. Заменим пропуски на 0."
   ]
  },
  {
   "cell_type": "code",
   "execution_count": 5,
   "metadata": {
    "pycharm": {
     "name": "#%%\n"
    }
   },
   "outputs": [],
   "source": [
    "df['Tenure'] = df['Tenure'].fillna(0)"
   ]
  },
  {
   "cell_type": "markdown",
   "metadata": {
    "pycharm": {
     "name": "#%% md\n"
    }
   },
   "source": [
    "<div class=\"alert alert-block alert-info\">\n",
    "<b>Совет:</b> Пропуски проанализированы и решение обработать их таким образом - допустимое . Но мне кажется, что так как природа пропусков неизвестна можно заполнить их случайными числами, чтобы не влиять на распределение или использовать медиану .\n",
    "</div>"
   ]
  },
  {
   "cell_type": "markdown",
   "metadata": {
    "pycharm": {
     "name": "#%% md\n"
    }
   },
   "source": [
    "Проверяем датафрейм на дубликаты"
   ]
  },
  {
   "cell_type": "code",
   "execution_count": 6,
   "metadata": {
    "pycharm": {
     "name": "#%%\n"
    }
   },
   "outputs": [
    {
     "data": {
      "text/plain": [
       "0"
      ]
     },
     "execution_count": 6,
     "metadata": {},
     "output_type": "execute_result"
    }
   ],
   "source": [
    "df.duplicated().sum()"
   ]
  },
  {
   "cell_type": "code",
   "execution_count": 7,
   "metadata": {
    "pycharm": {
     "name": "#%%\n"
    }
   },
   "outputs": [
    {
     "data": {
      "text/plain": [
       "0"
      ]
     },
     "execution_count": 7,
     "metadata": {},
     "output_type": "execute_result"
    }
   ],
   "source": [
    "df['CustomerId'].duplicated().sum()"
   ]
  },
  {
   "cell_type": "code",
   "execution_count": 8,
   "metadata": {
    "pycharm": {
     "name": "#%%\n"
    }
   },
   "outputs": [
    {
     "data": {
      "text/plain": [
       "7068"
      ]
     },
     "execution_count": 8,
     "metadata": {},
     "output_type": "execute_result"
    }
   ],
   "source": [
    "df['Surname'].duplicated().sum()"
   ]
  },
  {
   "cell_type": "code",
   "execution_count": 9,
   "metadata": {
    "pycharm": {
     "name": "#%%\n"
    }
   },
   "outputs": [
    {
     "data": {
      "text/plain": [
       "array(['France', 'Spain', 'Germany'], dtype=object)"
      ]
     },
     "execution_count": 9,
     "metadata": {},
     "output_type": "execute_result"
    }
   ],
   "source": [
    "df['Geography'].unique()"
   ]
  },
  {
   "cell_type": "markdown",
   "metadata": {
    "pycharm": {
     "name": "#%% md\n"
    }
   },
   "source": [
    "Вывод\n",
    "\n",
    "* RowNumber — столбец индекс строки в данных не несетя ценности для обучения модели - можно удалить.\n",
    "* CustomerId — уникальный идентификатор клиента дубликатов нет - можно удалить. \n",
    "* Surname — фамилия, является идентифицирующей пользователя информацией, содержит 7068 дубликатов, 2932 уникальных,сложный столбец, но нет ценности для качества будущей модели — можно удалить. \n",
    "* CreditScore — следует проверить распределение и сохранить данный столбец. \n",
    "* Geography — всего 3 уникальных значения, можно вылнить преобразование OHE \n",
    "* Gender — значение преобразовать — OHE \n",
    "* Age — Exited — тип данных верны Tenure — сколько лет человек является клиентом банка \n",
    "* Balance — баланс на счёте NumOfProducts — количество продуктов банка, используемых клиентом \n",
    "* HasCrCard — наличие кредитной карты \n",
    "* IsActiveMember — активность клиента \n",
    "* EstimatedSalary — предполагаемая зарплата \n",
    "* Exited — факт ухода клиента - целевой"
   ]
  },
  {
   "cell_type": "markdown",
   "metadata": {
    "pycharm": {
     "name": "#%% md\n"
    }
   },
   "source": [
    "<div class=\"alert alert-block alert-success\">\n",
    "<b>Успех:</b> Хороший первичный осмотр данных\n",
    "</div>\n",
    "\n",
    "<div class=\"alert alert-block alert-info\">\n",
    "<b>Совет:</b>  Советую обратить внимание на библиотеки sweetviz и pandas_profiling помогут в проведении более тщательного EDA анализа. Исследовательский анализ можно делать и с помощью ручного вызова функций дефолтных библиотек. Данные библиотеки хороши для максимизации комфорта презентации результатов анализа бизнес-пользователям. \n",
    "    \n",
    "Очень просты в использоовании, на вход кладется датафрейм: pandas_profiling.ProfileReport(df) \n",
    "\n",
    "</div>\n"
   ]
  },
  {
   "cell_type": "markdown",
   "metadata": {
    "pycharm": {
     "name": "#%% md\n"
    }
   },
   "source": [
    "## Исследование задачи"
   ]
  },
  {
   "cell_type": "markdown",
   "metadata": {
    "pycharm": {
     "name": "#%% md\n"
    }
   },
   "source": [
    "Проводим кодирование, убирая избыточный столбец"
   ]
  },
  {
   "cell_type": "code",
   "execution_count": 10,
   "metadata": {
    "pycharm": {
     "name": "#%%\n"
    }
   },
   "outputs": [],
   "source": [
    "df_country = pd.get_dummies(df.Geography, drop_first=True)\n",
    "df_gender = pd.get_dummies(df.Gender, drop_first=True)"
   ]
  },
  {
   "cell_type": "markdown",
   "metadata": {
    "pycharm": {
     "name": "#%% md\n"
    }
   },
   "source": [
    "<div class=\"alert alert-block alert-success\">\n",
    "<b>Успех:</b>  Прямое кодирование - хороший выбор, молодец, что не забываешь про drop_first. Но советую в будущем обратить внимание на инструмент OneHotEncoder от sklearn\n",
    "</div>\n",
    "\n",
    "\n"
   ]
  },
  {
   "cell_type": "markdown",
   "metadata": {
    "pycharm": {
     "name": "#%% md\n"
    }
   },
   "source": [
    "Формируем готовый датасет, удалив ненужные столбцы. Для столбца tenure заполняем ячейки NaN медианным значением по имеющимся значениям в столбце."
   ]
  },
  {
   "cell_type": "code",
   "execution_count": 11,
   "metadata": {
    "scrolled": true,
    "pycharm": {
     "name": "#%%\n"
    }
   },
   "outputs": [
    {
     "data": {
      "text/html": [
       "<div>\n",
       "<style scoped>\n",
       "    .dataframe tbody tr th:only-of-type {\n",
       "        vertical-align: middle;\n",
       "    }\n",
       "\n",
       "    .dataframe tbody tr th {\n",
       "        vertical-align: top;\n",
       "    }\n",
       "\n",
       "    .dataframe thead th {\n",
       "        text-align: right;\n",
       "    }\n",
       "</style>\n",
       "<table border=\"1\" class=\"dataframe\">\n",
       "  <thead>\n",
       "    <tr style=\"text-align: right;\">\n",
       "      <th></th>\n",
       "      <th>CreditScore</th>\n",
       "      <th>Age</th>\n",
       "      <th>Tenure</th>\n",
       "      <th>Balance</th>\n",
       "      <th>NumOfProducts</th>\n",
       "      <th>HasCrCard</th>\n",
       "      <th>IsActiveMember</th>\n",
       "      <th>EstimatedSalary</th>\n",
       "      <th>Male</th>\n",
       "      <th>Germany</th>\n",
       "      <th>Spain</th>\n",
       "    </tr>\n",
       "  </thead>\n",
       "  <tbody>\n",
       "    <tr>\n",
       "      <th>0</th>\n",
       "      <td>619</td>\n",
       "      <td>42</td>\n",
       "      <td>2.0</td>\n",
       "      <td>0.00</td>\n",
       "      <td>1</td>\n",
       "      <td>1</td>\n",
       "      <td>1</td>\n",
       "      <td>101348.88</td>\n",
       "      <td>0</td>\n",
       "      <td>0</td>\n",
       "      <td>0</td>\n",
       "    </tr>\n",
       "    <tr>\n",
       "      <th>1</th>\n",
       "      <td>608</td>\n",
       "      <td>41</td>\n",
       "      <td>1.0</td>\n",
       "      <td>83807.86</td>\n",
       "      <td>1</td>\n",
       "      <td>0</td>\n",
       "      <td>1</td>\n",
       "      <td>112542.58</td>\n",
       "      <td>0</td>\n",
       "      <td>0</td>\n",
       "      <td>1</td>\n",
       "    </tr>\n",
       "    <tr>\n",
       "      <th>2</th>\n",
       "      <td>502</td>\n",
       "      <td>42</td>\n",
       "      <td>8.0</td>\n",
       "      <td>159660.80</td>\n",
       "      <td>3</td>\n",
       "      <td>1</td>\n",
       "      <td>0</td>\n",
       "      <td>113931.57</td>\n",
       "      <td>0</td>\n",
       "      <td>0</td>\n",
       "      <td>0</td>\n",
       "    </tr>\n",
       "    <tr>\n",
       "      <th>3</th>\n",
       "      <td>699</td>\n",
       "      <td>39</td>\n",
       "      <td>1.0</td>\n",
       "      <td>0.00</td>\n",
       "      <td>2</td>\n",
       "      <td>0</td>\n",
       "      <td>0</td>\n",
       "      <td>93826.63</td>\n",
       "      <td>0</td>\n",
       "      <td>0</td>\n",
       "      <td>0</td>\n",
       "    </tr>\n",
       "    <tr>\n",
       "      <th>4</th>\n",
       "      <td>850</td>\n",
       "      <td>43</td>\n",
       "      <td>2.0</td>\n",
       "      <td>125510.82</td>\n",
       "      <td>1</td>\n",
       "      <td>1</td>\n",
       "      <td>1</td>\n",
       "      <td>79084.10</td>\n",
       "      <td>0</td>\n",
       "      <td>0</td>\n",
       "      <td>1</td>\n",
       "    </tr>\n",
       "    <tr>\n",
       "      <th>...</th>\n",
       "      <td>...</td>\n",
       "      <td>...</td>\n",
       "      <td>...</td>\n",
       "      <td>...</td>\n",
       "      <td>...</td>\n",
       "      <td>...</td>\n",
       "      <td>...</td>\n",
       "      <td>...</td>\n",
       "      <td>...</td>\n",
       "      <td>...</td>\n",
       "      <td>...</td>\n",
       "    </tr>\n",
       "    <tr>\n",
       "      <th>9995</th>\n",
       "      <td>771</td>\n",
       "      <td>39</td>\n",
       "      <td>5.0</td>\n",
       "      <td>0.00</td>\n",
       "      <td>2</td>\n",
       "      <td>1</td>\n",
       "      <td>0</td>\n",
       "      <td>96270.64</td>\n",
       "      <td>1</td>\n",
       "      <td>0</td>\n",
       "      <td>0</td>\n",
       "    </tr>\n",
       "    <tr>\n",
       "      <th>9996</th>\n",
       "      <td>516</td>\n",
       "      <td>35</td>\n",
       "      <td>10.0</td>\n",
       "      <td>57369.61</td>\n",
       "      <td>1</td>\n",
       "      <td>1</td>\n",
       "      <td>1</td>\n",
       "      <td>101699.77</td>\n",
       "      <td>1</td>\n",
       "      <td>0</td>\n",
       "      <td>0</td>\n",
       "    </tr>\n",
       "    <tr>\n",
       "      <th>9997</th>\n",
       "      <td>709</td>\n",
       "      <td>36</td>\n",
       "      <td>7.0</td>\n",
       "      <td>0.00</td>\n",
       "      <td>1</td>\n",
       "      <td>0</td>\n",
       "      <td>1</td>\n",
       "      <td>42085.58</td>\n",
       "      <td>0</td>\n",
       "      <td>0</td>\n",
       "      <td>0</td>\n",
       "    </tr>\n",
       "    <tr>\n",
       "      <th>9998</th>\n",
       "      <td>772</td>\n",
       "      <td>42</td>\n",
       "      <td>3.0</td>\n",
       "      <td>75075.31</td>\n",
       "      <td>2</td>\n",
       "      <td>1</td>\n",
       "      <td>0</td>\n",
       "      <td>92888.52</td>\n",
       "      <td>1</td>\n",
       "      <td>1</td>\n",
       "      <td>0</td>\n",
       "    </tr>\n",
       "    <tr>\n",
       "      <th>9999</th>\n",
       "      <td>792</td>\n",
       "      <td>28</td>\n",
       "      <td>0.0</td>\n",
       "      <td>130142.79</td>\n",
       "      <td>1</td>\n",
       "      <td>1</td>\n",
       "      <td>0</td>\n",
       "      <td>38190.78</td>\n",
       "      <td>0</td>\n",
       "      <td>0</td>\n",
       "      <td>0</td>\n",
       "    </tr>\n",
       "  </tbody>\n",
       "</table>\n",
       "<p>10000 rows × 11 columns</p>\n",
       "</div>"
      ],
      "text/plain": [
       "      CreditScore  Age  Tenure    Balance  NumOfProducts  HasCrCard  \\\n",
       "0             619   42     2.0       0.00              1          1   \n",
       "1             608   41     1.0   83807.86              1          0   \n",
       "2             502   42     8.0  159660.80              3          1   \n",
       "3             699   39     1.0       0.00              2          0   \n",
       "4             850   43     2.0  125510.82              1          1   \n",
       "...           ...  ...     ...        ...            ...        ...   \n",
       "9995          771   39     5.0       0.00              2          1   \n",
       "9996          516   35    10.0   57369.61              1          1   \n",
       "9997          709   36     7.0       0.00              1          0   \n",
       "9998          772   42     3.0   75075.31              2          1   \n",
       "9999          792   28     0.0  130142.79              1          1   \n",
       "\n",
       "      IsActiveMember  EstimatedSalary  Male  Germany  Spain  \n",
       "0                  1        101348.88     0        0      0  \n",
       "1                  1        112542.58     0        0      1  \n",
       "2                  0        113931.57     0        0      0  \n",
       "3                  0         93826.63     0        0      0  \n",
       "4                  1         79084.10     0        0      1  \n",
       "...              ...              ...   ...      ...    ...  \n",
       "9995               0         96270.64     1        0      0  \n",
       "9996               1        101699.77     1        0      0  \n",
       "9997               1         42085.58     0        0      0  \n",
       "9998               0         92888.52     1        1      0  \n",
       "9999               0         38190.78     0        0      0  \n",
       "\n",
       "[10000 rows x 11 columns]"
      ]
     },
     "metadata": {},
     "output_type": "display_data"
    }
   ],
   "source": [
    "df_features = df.join([df_gender, df_country]).drop([\"Exited\", \"RowNumber\", \"CustomerId\", \"Surname\"], axis=1)\n",
    "df_features  = df_features.drop(['Gender', \"Geography\"], axis = 1) \n",
    "df_features.Tenure.fillna(df_features.Tenure.median(), inplace = True)\n",
    "display(df_features)"
   ]
  },
  {
   "cell_type": "markdown",
   "metadata": {
    "pycharm": {
     "name": "#%% md\n"
    }
   },
   "source": [
    "\n",
    "<div class=\"alert alert-block alert-success\">\n",
    "<b>Успех:</b> Удалить неинформативные признаки - верное решение.\n",
    "</div>"
   ]
  },
  {
   "cell_type": "markdown",
   "metadata": {
    "pycharm": {
     "name": "#%% md\n"
    }
   },
   "source": [
    "Смотрим датасет"
   ]
  },
  {
   "cell_type": "code",
   "execution_count": 12,
   "metadata": {
    "scrolled": true,
    "pycharm": {
     "name": "#%%\n"
    }
   },
   "outputs": [
    {
     "data": {
      "text/plain": [
       "0       1\n",
       "1       0\n",
       "2       1\n",
       "3       0\n",
       "4       0\n",
       "       ..\n",
       "9995    0\n",
       "9996    0\n",
       "9997    1\n",
       "9998    1\n",
       "9999    0\n",
       "Name: Exited, Length: 10000, dtype: int64"
      ]
     },
     "metadata": {},
     "output_type": "display_data"
    }
   ],
   "source": [
    "df_target = df.Exited\n",
    "display(df_target)"
   ]
  },
  {
   "cell_type": "markdown",
   "metadata": {
    "pycharm": {
     "name": "#%% md\n"
    }
   },
   "source": [
    "Формируем выборки: \n",
    "\n",
    "Обучающая valid_features, valid_features\n",
    "\n",
    "Валидационная features_valid valid_target\n",
    "\n",
    "Тестовая test_features test_target"
   ]
  },
  {
   "cell_type": "code",
   "execution_count": 13,
   "metadata": {
    "pycharm": {
     "name": "#%%\n"
    }
   },
   "outputs": [
    {
     "name": "stdout",
     "output_type": "stream",
     "text": [
      "(4500, 11) (1500, 11) (4000, 11)\n",
      "(4500,) (1500,) (4000,)\n"
     ]
    }
   ],
   "source": [
    "features_temp, test_features, target_temp, test_target = train_test_split(df_features, df_target, test_size=0.4,random_state=54321)\n",
    "train_features, valid_features, train_target, valid_target = train_test_split(features_temp, target_temp, test_size=0.25, random_state=12345)\n",
    "\n",
    "print(train_features.shape, valid_features.shape, test_features.shape)\n",
    "print(train_target.shape,valid_target.shape, test_target.shape)"
   ]
  },
  {
   "cell_type": "code",
   "execution_count": 14,
   "metadata": {
    "pycharm": {
     "name": "#%%\n"
    }
   },
   "outputs": [
    {
     "data": {
      "text/plain": [
       "StandardScaler()"
      ]
     },
     "execution_count": 14,
     "metadata": {},
     "output_type": "execute_result"
    }
   ],
   "source": [
    "scaler = StandardScaler()\n",
    "numeric_columns = [\"CreditScore\", \"Age\", \"Tenure\", \"Balance\", \"EstimatedSalary\"]\n",
    "scaler.fit(train_features[numeric_columns])"
   ]
  },
  {
   "cell_type": "markdown",
   "metadata": {
    "pycharm": {
     "name": "#%% md\n"
    }
   },
   "source": [
    "Стандартизируем тестовую и валидную выборку"
   ]
  },
  {
   "cell_type": "code",
   "execution_count": 15,
   "metadata": {
    "pycharm": {
     "name": "#%%\n"
    }
   },
   "outputs": [
    {
     "data": {
      "text/html": [
       "<div>\n",
       "<style scoped>\n",
       "    .dataframe tbody tr th:only-of-type {\n",
       "        vertical-align: middle;\n",
       "    }\n",
       "\n",
       "    .dataframe tbody tr th {\n",
       "        vertical-align: top;\n",
       "    }\n",
       "\n",
       "    .dataframe thead th {\n",
       "        text-align: right;\n",
       "    }\n",
       "</style>\n",
       "<table border=\"1\" class=\"dataframe\">\n",
       "  <thead>\n",
       "    <tr style=\"text-align: right;\">\n",
       "      <th></th>\n",
       "      <th>CreditScore</th>\n",
       "      <th>Age</th>\n",
       "      <th>Tenure</th>\n",
       "      <th>Balance</th>\n",
       "      <th>EstimatedSalary</th>\n",
       "    </tr>\n",
       "  </thead>\n",
       "  <tbody>\n",
       "    <tr>\n",
       "      <th>1502</th>\n",
       "      <td>1.497448</td>\n",
       "      <td>-0.001777</td>\n",
       "      <td>0.147963</td>\n",
       "      <td>0.159732</td>\n",
       "      <td>0.076226</td>\n",
       "    </tr>\n",
       "    <tr>\n",
       "      <th>116</th>\n",
       "      <td>0.179598</td>\n",
       "      <td>-0.192140</td>\n",
       "      <td>0.470558</td>\n",
       "      <td>1.462843</td>\n",
       "      <td>0.259957</td>\n",
       "    </tr>\n",
       "    <tr>\n",
       "      <th>5786</th>\n",
       "      <td>-0.644058</td>\n",
       "      <td>0.093405</td>\n",
       "      <td>0.147963</td>\n",
       "      <td>-1.220711</td>\n",
       "      <td>0.000476</td>\n",
       "    </tr>\n",
       "    <tr>\n",
       "      <th>8965</th>\n",
       "      <td>-1.786881</td>\n",
       "      <td>1.806677</td>\n",
       "      <td>1.115747</td>\n",
       "      <td>1.113068</td>\n",
       "      <td>-1.324950</td>\n",
       "    </tr>\n",
       "    <tr>\n",
       "      <th>9172</th>\n",
       "      <td>0.941480</td>\n",
       "      <td>-0.001777</td>\n",
       "      <td>1.115747</td>\n",
       "      <td>1.017470</td>\n",
       "      <td>-0.134253</td>\n",
       "    </tr>\n",
       "  </tbody>\n",
       "</table>\n",
       "</div>"
      ],
      "text/plain": [
       "      CreditScore       Age    Tenure   Balance  EstimatedSalary\n",
       "1502     1.497448 -0.001777  0.147963  0.159732         0.076226\n",
       "116      0.179598 -0.192140  0.470558  1.462843         0.259957\n",
       "5786    -0.644058  0.093405  0.147963 -1.220711         0.000476\n",
       "8965    -1.786881  1.806677  1.115747  1.113068        -1.324950\n",
       "9172     0.941480 -0.001777  1.115747  1.017470        -0.134253"
      ]
     },
     "metadata": {},
     "output_type": "display_data"
    }
   ],
   "source": [
    "train_features[numeric_columns] = scaler.transform(train_features[numeric_columns])\n",
    "valid_features[numeric_columns] = scaler.transform(valid_features[numeric_columns])\n",
    "test_features[numeric_columns] = scaler.transform(test_features[numeric_columns])\n",
    "display(train_features[numeric_columns].head())"
   ]
  },
  {
   "cell_type": "markdown",
   "metadata": {
    "pycharm": {
     "name": "#%% md\n"
    }
   },
   "source": [
    "\n",
    "<div class=\"alert alert-block alert-success\">\n",
    "<b>Успех:</b> Отлично, что scaler обучен только на трейне\n",
    "</div>"
   ]
  },
  {
   "cell_type": "markdown",
   "metadata": {
    "pycharm": {
     "name": "#%% md\n"
    }
   },
   "source": [
    "так как был вопрос по параметрам, возврщаю такую реализацию\n",
    "\n",
    "Расммотрим модели на обучающей выборке:\n",
    "    \n",
    "Модель Дерево решений"
   ]
  },
  {
   "cell_type": "code",
   "execution_count": 16,
   "metadata": {
    "pycharm": {
     "name": "#%%\n"
    }
   },
   "outputs": [
    {
     "name": "stdout",
     "output_type": "stream",
     "text": [
      "max_depth: 8 F1: 0.5758157389635317\n"
     ]
    }
   ],
   "source": [
    "f1_score_max_tree = 0\n",
    "for depth in range(1,15,1):\n",
    "    model_tree=DecisionTreeClassifier(max_depth=depth,random_state=1234).fit(train_features,train_target)\n",
    "    prediction=model_tree.predict(valid_features)\n",
    "    if f1_score(valid_target,prediction)>f1_score_max_tree:\n",
    "        f1_score_max_tree=f1_score(valid_target,prediction)\n",
    "        depth_max = depth\n",
    "print('max_depth:',depth_max,'F1:',f1_score_max_tree )"
   ]
  },
  {
   "cell_type": "markdown",
   "metadata": {
    "pycharm": {
     "name": "#%% md\n"
    }
   },
   "source": [
    "Модель Случайный лес"
   ]
  },
  {
   "cell_type": "code",
   "execution_count": 17,
   "metadata": {
    "pycharm": {
     "name": "#%%\n"
    }
   },
   "outputs": [
    {
     "name": "stdout",
     "output_type": "stream",
     "text": [
      "estim_max= 27 depth_max= 18 F1_Score =  0.5852631578947369\n"
     ]
    }
   ],
   "source": [
    "f1_score_max_Forest=0\n",
    "for estim in range(1,55,2):\n",
    "    for depth in range(1,25,1):\n",
    "        model_forest = RandomForestClassifier(random_state=54321, n_estimators = estim, max_depth=depth)\n",
    "        model_forest.fit(train_features,train_target)\n",
    "        prediction = model_forest.predict(valid_features)\n",
    "        if f1_score(valid_target,prediction) > f1_score_max_Forest:\n",
    "            f1_score_max_Forest = f1_score(valid_target,prediction)\n",
    "            estim_max=estim\n",
    "            depth_max = depth\n",
    "print(\"estim_max=\", estim_max, \"depth_max=\", depth_max,\"F1_Score = \", f1_score_max_Forest)"
   ]
  },
  {
   "cell_type": "markdown",
   "metadata": {
    "pycharm": {
     "name": "#%% md\n"
    }
   },
   "source": [
    "Модель Логистическая регрессия"
   ]
  },
  {
   "cell_type": "code",
   "execution_count": 18,
   "metadata": {
    "pycharm": {
     "name": "#%%\n"
    }
   },
   "outputs": [
    {
     "name": "stdout",
     "output_type": "stream",
     "text": [
      "F1_Score =  0.2639593908629442\n"
     ]
    }
   ],
   "source": [
    "model = LogisticRegression(random_state=55555)\n",
    "model.fit(train_features,train_target)\n",
    "prediction = model.predict(valid_features)\n",
    "print(\"F1_Score = \", f1_score(valid_target,prediction))"
   ]
  },
  {
   "cell_type": "markdown",
   "metadata": {
    "pycharm": {
     "name": "#%% md\n"
    }
   },
   "source": [
    "Рассматривая данные с дисбалансом (но, с переведенные категориальные и стандартизированные данные) тремя моделями можно сделать вывод, что саммая лучшая модель оказалась Случайный лес. При лучшем значении depth_max= 18 F1_Score = 0.5852, на обучающей выборке train_features,train_target."
   ]
  },
  {
   "cell_type": "markdown",
   "metadata": {
    "pycharm": {
     "name": "#%% md\n"
    }
   },
   "source": [
    "Далее рассмотрим на тестовой выборке"
   ]
  },
  {
   "cell_type": "markdown",
   "metadata": {
    "pycharm": {
     "name": "#%% md\n"
    }
   },
   "source": [
    "Дерево решений"
   ]
  },
  {
   "cell_type": "code",
   "execution_count": 19,
   "metadata": {
    "pycharm": {
     "name": "#%%\n"
    }
   },
   "outputs": [
    {
     "name": "stdout",
     "output_type": "stream",
     "text": [
      "max_depth: 8 F1: 0.5758157389635317\n"
     ]
    }
   ],
   "source": [
    "f1_score_max = 0\n",
    "for depth in range(1,15,1):\n",
    "    model_tree=DecisionTreeClassifier(max_depth=depth,random_state=1234)\n",
    "    model_tree.fit(train_features,train_target)\n",
    "    prediction=model_tree.predict(valid_features)\n",
    "    if f1_score(valid_target,prediction)>f1_score_max:\n",
    "        f1_score_max=f1_score(valid_target,prediction)\n",
    "        depth_max = depth\n",
    "print('max_depth:',depth_max,'F1:',f1_score_max )"
   ]
  },
  {
   "cell_type": "markdown",
   "metadata": {
    "pycharm": {
     "name": "#%% md\n"
    }
   },
   "source": [
    "\n",
    "<div class=\"alert alert-block alert-danger\">\n",
    "<b>Ошибка:</b>  Модель не обучают на тестовой выборке.  Модель всегда обучают  на тренировочной.\n",
    "    \n",
    "На тестовой и валидационной можно только оценить модель (посчитать метрики)\n",
    "    \n",
    "НО тестовую нужно оценивать только в конце работы для одной лучшей модели, до этого оценивание проводится только на валидационной\n",
    "    \n",
    "Исправь это здесь в ячейках ниже.\n",
    "    \n",
    "    \n",
    "P.S. Странно, что ты допустил такую ошибку в этом разделе. В других разделах у тебя все в порядке\n",
    "</div>\n"
   ]
  },
  {
   "cell_type": "markdown",
   "metadata": {
    "pycharm": {
     "name": "#%% md\n"
    }
   },
   "source": [
    "<div class=\"alert alert-block alert-warning\">\n",
    "<b>Изменения:</b> Привет! Исправлено.\n",
    "</div>"
   ]
  },
  {
   "cell_type": "markdown",
   "metadata": {
    "pycharm": {
     "name": "#%% md\n"
    }
   },
   "source": [
    "\n",
    "<div class=\"alert alert-block alert-danger\">\n",
    "<b>Ошибка[2]:</b>  Почему-то ты обучил модель на валидационной, хотя должен был на тренировочной.\n",
    "</div>\n"
   ]
  },
  {
   "cell_type": "markdown",
   "metadata": {
    "pycharm": {
     "name": "#%% md\n"
    }
   },
   "source": [
    "<div class=\"alert alert-block alert-warning\">\n",
    "<b>Изменения:</b> Теперь понял свою ошибку. Спасибо.\n",
    "</div>"
   ]
  },
  {
   "cell_type": "markdown",
   "metadata": {
    "pycharm": {
     "name": "#%% md\n"
    }
   },
   "source": [
    "<div class=\"alert alert-block alert-success\">\n",
    "    \n",
    "<b>Успех[3]:</b> Есть контакт)\n",
    "</div>"
   ]
  },
  {
   "cell_type": "markdown",
   "metadata": {
    "pycharm": {
     "name": "#%% md\n"
    }
   },
   "source": [
    "Случайный лес"
   ]
  },
  {
   "cell_type": "code",
   "execution_count": 20,
   "metadata": {
    "pycharm": {
     "name": "#%%\n"
    }
   },
   "outputs": [
    {
     "name": "stdout",
     "output_type": "stream",
     "text": [
      "estim_max= 27 depth_max= 18 F1_Score =  0.5852631578947369\n"
     ]
    }
   ],
   "source": [
    "f1_score_max=0\n",
    "for estim in range(1,55,2):\n",
    "    for depth in range(1,25,1):\n",
    "        model_forest = RandomForestClassifier(random_state=54321, n_estimators = estim, max_depth=depth)\n",
    "        model_forest.fit(train_features,train_target)\n",
    "        prediction = model_forest.predict(valid_features)\n",
    "        if f1_score(valid_target,prediction) > f1_score_max:\n",
    "            f1_score_max = f1_score(valid_target,prediction)\n",
    "            estim_max=estim\n",
    "            depth_max = depth\n",
    "print(\"estim_max=\", estim_max, \"depth_max=\", depth_max,\"F1_Score = \", f1_score_max)"
   ]
  },
  {
   "cell_type": "markdown",
   "metadata": {
    "pycharm": {
     "name": "#%% md\n"
    }
   },
   "source": [
    "Логистическая регрессия"
   ]
  },
  {
   "cell_type": "code",
   "execution_count": 21,
   "metadata": {
    "pycharm": {
     "name": "#%%\n"
    }
   },
   "outputs": [
    {
     "name": "stdout",
     "output_type": "stream",
     "text": [
      "F1_Score =  0.2639593908629442\n"
     ]
    }
   ],
   "source": [
    "model_logistic=LogisticRegression()\n",
    "model_logistic.fit(train_features,train_target)\n",
    "prediction=model_logistic.predict(valid_features)\n",
    "f1_score_logistic= f1_score(valid_target,prediction)\n",
    "print(\"F1_Score = \", f1_score_logistic)"
   ]
  },
  {
   "cell_type": "markdown",
   "metadata": {
    "pycharm": {
     "name": "#%% md\n"
    }
   },
   "source": [
    "Найдем значения AUC-ROC для"
   ]
  },
  {
   "cell_type": "markdown",
   "metadata": {
    "pycharm": {
     "name": "#%% md\n"
    }
   },
   "source": [
    "Модель Дерево решений"
   ]
  },
  {
   "cell_type": "code",
   "execution_count": 22,
   "metadata": {
    "scrolled": true,
    "pycharm": {
     "name": "#%%\n"
    }
   },
   "outputs": [
    {
     "data": {
      "text/plain": [
       "0.7059364945991665"
      ]
     },
     "execution_count": 22,
     "metadata": {},
     "output_type": "execute_result"
    }
   ],
   "source": [
    "probabilities_tree=model_tree.predict_proba(valid_features)\n",
    "probabilities_one_valid_tree=probabilities_tree[:,1]\n",
    "fpr_tree,tpr_tree,thresholds=roc_curve(valid_target,probabilities_one_valid_tree)\n",
    "\n",
    "auc_roc_tree=roc_auc_score(valid_target,probabilities_one_valid_tree)\n",
    "\n",
    "auc_roc_tree"
   ]
  },
  {
   "cell_type": "markdown",
   "metadata": {
    "pycharm": {
     "name": "#%% md\n"
    }
   },
   "source": [
    "Модель Случайны лес"
   ]
  },
  {
   "cell_type": "code",
   "execution_count": 23,
   "metadata": {
    "pycharm": {
     "name": "#%%\n"
    }
   },
   "outputs": [
    {
     "data": {
      "text/plain": [
       "0.840126756514721"
      ]
     },
     "execution_count": 23,
     "metadata": {},
     "output_type": "execute_result"
    }
   ],
   "source": [
    "probabilities_forest=model_forest.predict_proba(valid_features)\n",
    "probabilities_one_valid_forest=probabilities_forest[:,1]\n",
    "fpr_forest,tpr_forest,thresholds=roc_curve(valid_target,probabilities_one_valid_forest)\n",
    "\n",
    "auc_roc_forest=roc_auc_score(valid_target,probabilities_one_valid_forest)\n",
    "\n",
    "auc_roc_forest"
   ]
  },
  {
   "cell_type": "markdown",
   "metadata": {
    "pycharm": {
     "name": "#%% md\n"
    }
   },
   "source": [
    "Модель Логистическая регрессия"
   ]
  },
  {
   "cell_type": "code",
   "execution_count": 24,
   "metadata": {
    "pycharm": {
     "name": "#%%\n"
    }
   },
   "outputs": [
    {
     "data": {
      "text/plain": [
       "0.7565976406593771"
      ]
     },
     "execution_count": 24,
     "metadata": {},
     "output_type": "execute_result"
    }
   ],
   "source": [
    "probabilities_reg=model_logistic.predict_proba(valid_features)\n",
    "probabilities_one_valid_reg=probabilities_reg[:,1]\n",
    "fpr_log,tpr_log,thresholds=roc_curve(valid_target,probabilities_one_valid_reg)\n",
    "\n",
    "auc_roc_reg=roc_auc_score(valid_target,probabilities_one_valid_reg)\n",
    "\n",
    "auc_roc_reg"
   ]
  },
  {
   "cell_type": "markdown",
   "metadata": {
    "pycharm": {
     "name": "#%% md\n"
    }
   },
   "source": [
    "ROC-кривая"
   ]
  },
  {
   "cell_type": "code",
   "execution_count": 25,
   "metadata": {
    "scrolled": true,
    "pycharm": {
     "name": "#%%\n"
    }
   },
   "outputs": [
    {
     "data": {
      "text/plain": [
       "<Figure size 432x288 with 0 Axes>"
      ]
     },
     "metadata": {},
     "output_type": "display_data"
    },
    {
     "data": {
      "image/png": "[encoded data removed]",
      "text/plain": [
       "<Figure size 720x504 with 1 Axes>"
      ]
     },
     "metadata": {
      "needs_background": "light"
     },
     "output_type": "display_data"
    }
   ],
   "source": [
    "plt.figure()\n",
    "\n",
    "plt.figure(figsize=(10,7))\n",
    "plt.plot([0, 1], [0, 1], linestyle='--')\n",
    "plt.xlim([0.0, 1.0])\n",
    "plt.ylim([0.0, 1.0])\n",
    "plt.plot(fpr_log,tpr_log)\n",
    "plt.plot(fpr_tree,tpr_tree)\n",
    "plt.plot(fpr_forest,tpr_forest)\n",
    "plt.xlabel('False Positive Rate')\n",
    "plt.ylabel('True Positive Rate')\n",
    "plt.title('ROC-кривая')\n",
    "plt.legend(('Случайный лес','Логистическая регрессия','Дерево решения'),\n",
    "           loc= 'upper left') \n",
    "plt.show()"
   ]
  },
  {
   "cell_type": "markdown",
   "metadata": {
    "pycharm": {
     "name": "#%% md\n"
    }
   },
   "source": [
    "Случайный лес примерно равную пропорцию позитивных и негативных предсказаний, выдает заметно больше качественных предсказаний, но также сильно склоняется к ложно позитивным предсказаниям (FP). Точность и качество также низкое.\n",
    "\n",
    "Дерево решений склонно выдавать позитивные предсказания, очень высокое количество ложных позитивных предсказания (FP). Видим низкое значение F1, следовательно низкое качество модели, проблема в точности.\n",
    "\n",
    "Регрессия показала самое низкое значение F1 и полноты."
   ]
  },
  {
   "cell_type": "markdown",
   "metadata": {
    "pycharm": {
     "name": "#%% md\n"
    }
   },
   "source": [
    "<div class=\"alert alert-block alert-success\">\n",
    "<b>Успех:</b> А так неплохо проделан шаг,  все метрики посчитаны корректно, идем дальше.\n",
    "</div>\n"
   ]
  },
  {
   "cell_type": "markdown",
   "metadata": {
    "pycharm": {
     "name": "#%% md\n"
    }
   },
   "source": [
    "Проверяем дисбаланс"
   ]
  },
  {
   "cell_type": "code",
   "execution_count": 26,
   "metadata": {
    "scrolled": true,
    "pycharm": {
     "name": "#%%\n"
    }
   },
   "outputs": [
    {
     "data": {
      "text/plain": [
       "0    0.798\n",
       "1    0.202\n",
       "Name: Exited, dtype: float64"
      ]
     },
     "execution_count": 26,
     "metadata": {},
     "output_type": "execute_result"
    }
   ],
   "source": [
    "target_temp.value_counts(normalize = 1)"
   ]
  },
  {
   "cell_type": "markdown",
   "metadata": {
    "pycharm": {
     "name": "#%% md\n"
    }
   },
   "source": [
    "Построим диаграмму баланса классов"
   ]
  },
  {
   "cell_type": "code",
   "execution_count": 27,
   "metadata": {
    "scrolled": false,
    "pycharm": {
     "name": "#%%\n"
    }
   },
   "outputs": [
    {
     "data": {
      "text/plain": [
       "<AxesSubplot:ylabel='Frequency'>"
      ]
     },
     "execution_count": 27,
     "metadata": {},
     "output_type": "execute_result"
    },
    {
     "data": {
      "image/png": "[encoded data removed]",
      "text/plain": [
       "<Figure size 72x72 with 1 Axes>"
      ]
     },
     "metadata": {
      "needs_background": "light"
     },
     "output_type": "display_data"
    }
   ],
   "source": [
    "target_temp.plot(kind ='hist', bins=2, figsize=(1,1))"
   ]
  },
  {
   "cell_type": "markdown",
   "metadata": {
    "pycharm": {
     "name": "#%% md\n"
    }
   },
   "source": [
    "<div class=\"alert alert-block alert-success\">\n",
    "<b>Успех:</b> дисбаланс обнаружен\n",
    "</div>"
   ]
  },
  {
   "cell_type": "markdown",
   "metadata": {
    "pycharm": {
     "name": "#%% md\n"
    }
   },
   "source": [
    "## Борьба с дисбалансом"
   ]
  },
  {
   "cell_type": "markdown",
   "metadata": {
    "pycharm": {
     "name": "#%% md\n"
    }
   },
   "source": [
    "На предыдущем этапе выявили, что в соотношение примерно 80 на 20: отрицательны ответов ≈ 80% , положитительных ≈ 20%. очевидно, необходмо увеличить количество положительных ответов или уменьшить кол-во отрицтаельных ответов."
   ]
  },
  {
   "cell_type": "code",
   "execution_count": 28,
   "metadata": {
    "pycharm": {
     "name": "#%%\n"
    }
   },
   "outputs": [],
   "source": [
    "def upsampling (features,target,repeat):\n",
    "    target_one=target[target==1]\n",
    "    target_null=target[target==0]\n",
    "    features_one=features[target==1]\n",
    "    features_null=features[target==0]\n",
    "    \n",
    "    upsampling_features=pd.concat([features_null]+[features_one]*repeat)\n",
    "    upsampling_target=pd.concat([target_null]+[target_one]*repeat)\n",
    "    \n",
    "    upsampling_features,upsampling_target=shuffle(upsampling_features,upsampling_target,random_state=1234)\n",
    "    \n",
    "    return upsampling_features,upsampling_target"
   ]
  },
  {
   "cell_type": "code",
   "execution_count": 29,
   "metadata": {
    "pycharm": {
     "name": "#%%\n"
    }
   },
   "outputs": [],
   "source": [
    "def downsampling(features,target,fraction):\n",
    "    features_null=features[target==0]\n",
    "    features_one=features[target==1]\n",
    "    target_null=target[target==0]\n",
    "    target_one=target[target==1]\n",
    "    \n",
    "    downsampling_features=pd.concat([features_null.sample(frac=0.4,random_state=1234)]+[features_one])\n",
    "    downsampling_target=pd.concat([target_null.sample(frac=0.4,random_state=1234)]+[target_one])\n",
    "    \n",
    "    downsampling_features,downsampling_target=shuffle(downsampling_features,downsampling_target,random_state=1234)\n",
    "    \n",
    "    return downsampling_features,downsampling_target"
   ]
  },
  {
   "cell_type": "code",
   "execution_count": 30,
   "metadata": {
    "pycharm": {
     "name": "#%%\n"
    }
   },
   "outputs": [],
   "source": [
    "features_balance_up,target_balance_up=upsampling(train_features,train_target,4)"
   ]
  },
  {
   "cell_type": "markdown",
   "metadata": {
    "pycharm": {
     "name": "#%% md\n"
    }
   },
   "source": [
    "<div class=\"alert alert-block alert-success\">\n",
    "    \n",
    "<b>Успех:</b> Выбран правильный `repeat`\n",
    "</div>"
   ]
  },
  {
   "cell_type": "markdown",
   "metadata": {
    "pycharm": {
     "name": "#%% md\n"
    }
   },
   "source": [
    "Метод 1\n",
    "\n",
    "Cмотрим дерево"
   ]
  },
  {
   "cell_type": "code",
   "execution_count": 31,
   "metadata": {
    "pycharm": {
     "name": "#%%\n"
    }
   },
   "outputs": [
    {
     "name": "stdout",
     "output_type": "stream",
     "text": [
      "max_depth: 5 F1: 0.5809018567639257\n"
     ]
    }
   ],
   "source": [
    "f1_score_max_tree2 = 0\n",
    "for depth in range(1,15,1):\n",
    "    model_tree=DecisionTreeClassifier(max_depth=depth,random_state=1234).fit(features_balance_up,target_balance_up)\n",
    "    prediction=model_tree.predict(valid_features)\n",
    "    if f1_score(valid_target,prediction)>f1_score_max_tree2:\n",
    "        f1_score_max_tree2=f1_score(valid_target,prediction)\n",
    "        depth_max = depth\n",
    "print('max_depth:',depth_max,'F1:',f1_score_max_tree2 )"
   ]
  },
  {
   "cell_type": "markdown",
   "metadata": {
    "pycharm": {
     "name": "#%% md\n"
    }
   },
   "source": [
    "Регрессия"
   ]
  },
  {
   "cell_type": "code",
   "execution_count": 32,
   "metadata": {
    "pycharm": {
     "name": "#%%\n"
    }
   },
   "outputs": [
    {
     "name": "stdout",
     "output_type": "stream",
     "text": [
      "F1: 0.4782608695652174\n"
     ]
    }
   ],
   "source": [
    "model_logistic=LogisticRegression(random_state=54321).fit(features_balance_up,target_balance_up)\n",
    "prediction=model_logistic.predict(valid_features)\n",
    "print('F1:',f1_score(valid_target,prediction))"
   ]
  },
  {
   "cell_type": "markdown",
   "metadata": {
    "pycharm": {
     "name": "#%% md\n"
    }
   },
   "source": [
    "Лес"
   ]
  },
  {
   "cell_type": "code",
   "execution_count": 33,
   "metadata": {
    "pycharm": {
     "name": "#%%\n"
    }
   },
   "outputs": [
    {
     "name": "stdout",
     "output_type": "stream",
     "text": [
      "estim_max= 45 depth_max= 9 F1_Score =  0.629746835443038\n"
     ]
    }
   ],
   "source": [
    "f1_score_max_Forest2=0\n",
    "for estim in range(1,55,2):\n",
    "    for depth in range(1,25,1):\n",
    "        model_forest = RandomForestClassifier(random_state=54321, n_estimators = estim, max_depth=depth)\n",
    "        model_forest.fit(features_balance_up,target_balance_up)\n",
    "        prediction = model_forest.predict(valid_features)\n",
    "        if f1_score(valid_target,prediction) > f1_score_max_Forest2:\n",
    "            f1_score_max_Forest2 = f1_score(valid_target,prediction)\n",
    "            estim_max=estim\n",
    "            depth_max = depth\n",
    "print(\"estim_max=\", estim_max, \"depth_max=\", depth_max,\"F1_Score = \", f1_score_max_Forest2)"
   ]
  },
  {
   "cell_type": "markdown",
   "metadata": {
    "pycharm": {
     "name": "#%% md\n"
    }
   },
   "source": [
    "Метод 2."
   ]
  },
  {
   "cell_type": "code",
   "execution_count": 34,
   "metadata": {
    "pycharm": {
     "name": "#%%\n"
    }
   },
   "outputs": [],
   "source": [
    "features_balance_up_downsampling, target_balance_up_downsampling = downsampling(train_features,train_target,4)"
   ]
  },
  {
   "cell_type": "markdown",
   "metadata": {
    "pycharm": {
     "name": "#%% md\n"
    }
   },
   "source": [
    "\n",
    "<div class=\"alert alert-block alert-success\">\n",
    "    \n",
    "<b>Успех:</b> Выбран правильный `fraction`\n",
    "</div>"
   ]
  },
  {
   "cell_type": "markdown",
   "metadata": {
    "pycharm": {
     "name": "#%% md\n"
    }
   },
   "source": [
    "Дерево"
   ]
  },
  {
   "cell_type": "code",
   "execution_count": 35,
   "metadata": {
    "pycharm": {
     "name": "#%%\n"
    }
   },
   "outputs": [
    {
     "name": "stdout",
     "output_type": "stream",
     "text": [
      "max_depth: 5 F1: 0.5987261146496815\n"
     ]
    }
   ],
   "source": [
    "f1_score_max = 0\n",
    "for depth in range(1,15,1):\n",
    "    model_tree=DecisionTreeClassifier(max_depth=depth,random_state=1234).fit(features_balance_up_downsampling,target_balance_up_downsampling)\n",
    "    prediction=model_tree.predict(valid_features)\n",
    "    if f1_score(valid_target,prediction)>f1_score_max:\n",
    "        f1_score_max=f1_score(valid_target,prediction)\n",
    "        depth_max = depth\n",
    "print('max_depth:',depth_max,'F1:',f1_score_max )"
   ]
  },
  {
   "cell_type": "markdown",
   "metadata": {
    "pycharm": {
     "name": "#%% md\n"
    }
   },
   "source": [
    "Регрессия"
   ]
  },
  {
   "cell_type": "code",
   "execution_count": 36,
   "metadata": {
    "pycharm": {
     "name": "#%%\n"
    }
   },
   "outputs": [
    {
     "name": "stdout",
     "output_type": "stream",
     "text": [
      "F1: 0.4864\n"
     ]
    }
   ],
   "source": [
    "model_logistic=LogisticRegression(random_state=54321).fit(features_balance_up_downsampling,target_balance_up_downsampling)\n",
    "prediction=model_logistic.predict(valid_features)\n",
    "f1_score_logistic2 = f1_score(valid_target,prediction)\n",
    "print('F1:',f1_score_logistic2)"
   ]
  },
  {
   "cell_type": "markdown",
   "metadata": {
    "pycharm": {
     "name": "#%% md\n"
    }
   },
   "source": [
    "Лес"
   ]
  },
  {
   "cell_type": "code",
   "execution_count": 37,
   "metadata": {
    "pycharm": {
     "name": "#%%\n"
    }
   },
   "outputs": [
    {
     "name": "stdout",
     "output_type": "stream",
     "text": [
      "estim_max= 33 depth_max= 11 F1_Score =  0.6383701188455008\n"
     ]
    }
   ],
   "source": [
    "f1_score_max=0\n",
    "for estim in range(1,55,2):\n",
    "    for depth in range(1,25,1):\n",
    "        model_forest = RandomForestClassifier(random_state=54321, n_estimators = estim, max_depth=depth)\n",
    "        model_forest.fit(features_balance_up_downsampling,target_balance_up_downsampling)\n",
    "        prediction = model_forest.predict(valid_features)\n",
    "        if f1_score(valid_target,prediction) > f1_score_max:\n",
    "            f1_score_max = f1_score(valid_target,prediction)\n",
    "            estim_max=estim\n",
    "            depth_max = depth\n",
    "print(\"estim_max=\", estim_max, \"depth_max=\", depth_max,\"F1_Score = \", f1_score_max)"
   ]
  },
  {
   "cell_type": "markdown",
   "metadata": {
    "pycharm": {
     "name": "#%% md\n"
    }
   },
   "source": [
    "Вывод\n",
    "\n",
    "Метод 1 показал лучше результаты на всех трех моделях."
   ]
  },
  {
   "cell_type": "markdown",
   "metadata": {
    "pycharm": {
     "name": "#%% md\n"
    }
   },
   "source": [
    "Модель Логистчиеская регрессия"
   ]
  },
  {
   "cell_type": "code",
   "execution_count": 38,
   "metadata": {
    "pycharm": {
     "name": "#%%\n"
    }
   },
   "outputs": [
    {
     "data": {
      "text/plain": [
       "0.7587286758283674"
      ]
     },
     "execution_count": 38,
     "metadata": {},
     "output_type": "execute_result"
    }
   ],
   "source": [
    "probabilities_reg=model_logistic.predict_proba(valid_features)\n",
    "probabilities_one_valid_reg=probabilities_reg[:,1]\n",
    "fpr_log,tpr_log,thresholds=roc_curve(valid_target,probabilities_one_valid_reg)\n",
    "\n",
    "auc_roc_reg=roc_auc_score(valid_target,probabilities_one_valid_reg)\n",
    "\n",
    "auc_roc_reg"
   ]
  },
  {
   "cell_type": "markdown",
   "metadata": {
    "pycharm": {
     "name": "#%% md\n"
    }
   },
   "source": [
    "Модель Дерево решений"
   ]
  },
  {
   "cell_type": "code",
   "execution_count": 39,
   "metadata": {
    "pycharm": {
     "name": "#%%\n"
    }
   },
   "outputs": [
    {
     "data": {
      "text/plain": [
       "0.6880355227807936"
      ]
     },
     "execution_count": 39,
     "metadata": {},
     "output_type": "execute_result"
    }
   ],
   "source": [
    "probabilities_tree=model_tree.predict_proba(valid_features)\n",
    "probabilities_one_valid_tree=probabilities_tree[:,1]\n",
    "fpr_tree,tpr_tree,thresholds=roc_curve(valid_target,probabilities_one_valid_tree)\n",
    "\n",
    "auc_roc_tree=roc_auc_score(valid_target,probabilities_one_valid_tree)\n",
    "\n",
    "auc_roc_tree"
   ]
  },
  {
   "cell_type": "markdown",
   "metadata": {
    "pycharm": {
     "name": "#%% md\n"
    }
   },
   "source": [
    "Случайный лес"
   ]
  },
  {
   "cell_type": "code",
   "execution_count": 40,
   "metadata": {
    "pycharm": {
     "name": "#%%\n"
    }
   },
   "outputs": [
    {
     "data": {
      "text/plain": [
       "0.8402801578790258"
      ]
     },
     "execution_count": 40,
     "metadata": {},
     "output_type": "execute_result"
    }
   ],
   "source": [
    "probabilities_forest = model_forest.predict_proba(valid_features)\n",
    "probabilities_one_valid_forest = probabilities_forest[:,1]\n",
    "fpr_forest,tpr_forest,thresholds = roc_curve(valid_target,probabilities_one_valid_forest)\n",
    "\n",
    "auc_roc_forest = roc_auc_score(valid_target,probabilities_one_valid_forest)\n",
    "\n",
    "auc_roc_forest"
   ]
  },
  {
   "cell_type": "markdown",
   "metadata": {
    "pycharm": {
     "name": "#%% md\n"
    }
   },
   "source": [
    "ROC-кривая"
   ]
  },
  {
   "cell_type": "code",
   "execution_count": 41,
   "metadata": {
    "scrolled": true,
    "pycharm": {
     "name": "#%%\n"
    }
   },
   "outputs": [
    {
     "data": {
      "text/plain": [
       "<Figure size 432x288 with 0 Axes>"
      ]
     },
     "metadata": {},
     "output_type": "display_data"
    },
    {
     "data": {
      "image/png": "[encoded data removed]",
      "text/plain": [
       "<Figure size 720x504 with 1 Axes>"
      ]
     },
     "metadata": {
      "needs_background": "light"
     },
     "output_type": "display_data"
    }
   ],
   "source": [
    "plt.figure()\n",
    "\n",
    "plt.figure(figsize=(10,7))\n",
    "plt.plot([0, 1], [0, 1], linestyle='--')\n",
    "plt.xlim([0.0, 1.0])\n",
    "plt.ylim([0.0, 1.0])\n",
    "plt.plot(fpr_log,tpr_log)\n",
    "plt.plot(fpr_tree,tpr_tree)\n",
    "plt.plot(fpr_forest,tpr_forest)\n",
    "plt.xlabel('False Positive Rate')\n",
    "plt.ylabel('True Positive Rate')\n",
    "plt.title('ROC-кривая')\n",
    "plt.legend(('Случайный лес','Логистическая регрессия','Дерево решения'),\n",
    "           loc= 'upper left')\n",
    "plt.show()"
   ]
  },
  {
   "cell_type": "markdown",
   "metadata": {
    "pycharm": {
     "name": "#%% md\n"
    }
   },
   "source": [
    "Вывод\n",
    "\n",
    "Лучшее значение метрики auc roc=0.8426 у модели Случайный лес, затем у логистической регресии - 0.7594, а у дерева - 0.6923"
   ]
  },
  {
   "cell_type": "markdown",
   "metadata": {
    "pycharm": {
     "name": "#%% md\n"
    }
   },
   "source": [
    "<div class=\"alert alert-block alert-success\">\n",
    "<b>Успех:</b> хорошая работа с моделями машинного обучения.  Радует  достаточное количество расмотренных методов для борьбы с дисбалансом.\n",
    "\n",
    "</div>\n"
   ]
  },
  {
   "cell_type": "markdown",
   "metadata": {
    "pycharm": {
     "name": "#%% md\n"
    }
   },
   "source": [
    "## Тестирование модели"
   ]
  },
  {
   "cell_type": "markdown",
   "metadata": {
    "pycharm": {
     "name": "#%% md\n"
    }
   },
   "source": [
    "Выводим итоги обучения:"
   ]
  },
  {
   "cell_type": "code",
   "execution_count": 42,
   "metadata": {
    "scrolled": true,
    "pycharm": {
     "name": "#%%\n"
    }
   },
   "outputs": [
    {
     "data": {
      "text/html": [
       "<div>\n",
       "<style scoped>\n",
       "    .dataframe tbody tr th:only-of-type {\n",
       "        vertical-align: middle;\n",
       "    }\n",
       "\n",
       "    .dataframe tbody tr th {\n",
       "        vertical-align: top;\n",
       "    }\n",
       "\n",
       "    .dataframe thead th {\n",
       "        text-align: right;\n",
       "    }\n",
       "</style>\n",
       "<table border=\"1\" class=\"dataframe\">\n",
       "  <thead>\n",
       "    <tr style=\"text-align: right;\">\n",
       "      <th></th>\n",
       "      <th>Дерево Решения</th>\n",
       "      <th>Случайный лес</th>\n",
       "      <th>Логистическая регрессия</th>\n",
       "    </tr>\n",
       "  </thead>\n",
       "  <tbody>\n",
       "    <tr>\n",
       "      <th>F1 без учета дисбаланса</th>\n",
       "      <td>0.575816</td>\n",
       "      <td>0.585263</td>\n",
       "      <td>0.263959</td>\n",
       "    </tr>\n",
       "    <tr>\n",
       "      <th>F1 с учетом дисбаланса</th>\n",
       "      <td>0.580902</td>\n",
       "      <td>0.629747</td>\n",
       "      <td>0.486400</td>\n",
       "    </tr>\n",
       "  </tbody>\n",
       "</table>\n",
       "</div>"
      ],
      "text/plain": [
       "                         Дерево Решения  Случайный лес  \\\n",
       "F1 без учета дисбаланса        0.575816       0.585263   \n",
       "F1 с учетом дисбаланса         0.580902       0.629747   \n",
       "\n",
       "                         Логистическая регрессия  \n",
       "F1 без учета дисбаланса                 0.263959  \n",
       "F1 с учетом дисбаланса                  0.486400  "
      ]
     },
     "execution_count": 42,
     "metadata": {},
     "output_type": "execute_result"
    }
   ],
   "source": [
    "rezult1={'Дерево Решения':np.array([f1_score_max_tree,f1_score_max_tree2 ]),'Случайный лес':np.array([f1_score_max_Forest,f1_score_max_Forest2]),'Логистическая регрессия':np.array([f1_score_logistic,f1_score_logistic2])}\n",
    "rezult_df=pd.DataFrame(rezult1,index=['F1 без учета дисбаланса','F1 с учетом дисбаланса'])\n",
    "\n",
    "rezult_df"
   ]
  },
  {
   "cell_type": "markdown",
   "metadata": {
    "pycharm": {
     "name": "#%% md\n"
    }
   },
   "source": [
    "Возьмем модель, показавшую лучшие результаты - Случайный лес с параметрами estim_max= 45 depth_max= 9, где F1_Score = 0.629746835443038 (чтобы убрать цикл, не очень быстро работает). переобучим модель случайный лес на тестовой выборке."
   ]
  },
  {
   "cell_type": "code",
   "execution_count": 43,
   "metadata": {
    "pycharm": {
     "name": "#%%\n"
    }
   },
   "outputs": [
    {
     "name": "stdout",
     "output_type": "stream",
     "text": [
      "F1_Score =  0.6199893105291288\n"
     ]
    }
   ],
   "source": [
    "model_2_u = RandomForestClassifier(random_state=54321, n_estimators = 45, max_depth=9)\n",
    "model_2_u.fit(features_balance_up,target_balance_up)\n",
    "\n",
    "predict_test = model_2_u.predict(test_features)\n",
    "\n",
    "print(\"F1_Score = \", f1_score(test_target, predict_test))"
   ]
  },
  {
   "cell_type": "markdown",
   "metadata": {
    "pycharm": {
     "name": "#%% md\n"
    }
   },
   "source": [
    "Результат получили чуть хуже предыдущего, но в пределах нормы.\n",
    "\n",
    "Рассмотрим метрику AUC-ROC и поведение ROC кривой"
   ]
  },
  {
   "cell_type": "code",
   "execution_count": 44,
   "metadata": {
    "pycharm": {
     "name": "#%%\n"
    }
   },
   "outputs": [
    {
     "name": "stdout",
     "output_type": "stream",
     "text": [
      "AUC_ROC= 0.8615074206633262\n"
     ]
    }
   ],
   "source": [
    "probabilities_test = model_2_u.predict_proba(test_features)\n",
    "probabilities_one_test = probabilities_test[:, 1]\n",
    "\n",
    "auc_roc = roc_auc_score(test_target, probabilities_one_test)\n",
    "\n",
    "print(\"AUC_ROC=\", auc_roc)"
   ]
  },
  {
   "cell_type": "code",
   "execution_count": 45,
   "metadata": {
    "scrolled": true,
    "pycharm": {
     "name": "#%%\n"
    }
   },
   "outputs": [
    {
     "data": {
      "image/png": "[encoded data removed]",
      "text/plain": [
       "<Figure size 432x288 with 1 Axes>"
      ]
     },
     "metadata": {
      "needs_background": "light"
     },
     "output_type": "display_data"
    }
   ],
   "source": [
    "fpr, tpr, thresholds = roc_curve(test_target, probabilities_one_test ) \n",
    "plt.figure()\n",
    "plt.plot(fpr, tpr, linestyle='--')\n",
    "plt.plot([0, 1], [0, 1], linestyle='--')\n",
    "plt.xlim([0,1])\n",
    "plt.ylim([0,1])\n",
    "plt.xlabel(\"False Positive Rate\")\n",
    "plt.ylabel(\"True Positive Rate\")\n",
    "plt.title(\"ROC-кривая\")\n",
    "plt.show()"
   ]
  },
  {
   "cell_type": "markdown",
   "metadata": {
    "pycharm": {
     "name": "#%% md\n"
    }
   },
   "source": [
    "<div class=\"alert alert-block alert-success\">\n",
    "<b>Успех:</b>  С тестированием все в порядке! Тебе удалось достичь хороших показателей метрик на тесте. \n",
    "</div> \n"
   ]
  },
  {
   "cell_type": "markdown",
   "metadata": {
    "pycharm": {
     "name": "#%% md\n"
    }
   },
   "source": [
    "Выводы\n",
    "\n",
    "На основании вида ROC-кривой можно сделать вывод что модель дает хорошие показатели в предсказании.\n",
    "\n",
    "Исходная задача: Спрогнозировать возможность ухода клиенты из банка исходя из имеющихся данных. Выводы В ходе этой работы были изучены исходные данные о взаимодйствии банка и клиентов, включающие информацию об уходе клиентов из банка. Была проведена работа:разбивки категориальных данных на колонки с численными значениями (флагами), отброшены не информатиыные (для обучения моделей) колонки. Проведена стандартизация численных значений. В следствии данные были разбиты на целевые и предсказательные, было проведено обучение моделей трех типов, с целью подбора оптимальных гиперпараметров и выбора наилучшей модели.\n",
    "\n",
    "Аналогичное исследование было проведено с данными после операции балансировки классов, в результате котороый была выбрана наилучшая модель и ее гиперпараметры - - Случайный лес. Выбор осуществлялся по максимизации метрики F1_score, а так же по итогам построения ROC кривой\n",
    "\n",
    "Полученный показатель Случайного леса на тестовой выборке F1_Score = 0.619. А значени показателя AUC-ROC= 0.861. В итоге найдена модель, которая позволит выявить \"группу\" риска среди клиентов банка."
   ]
  },
  {
   "cell_type": "markdown",
   "metadata": {
    "pycharm": {
     "name": "#%% md\n"
    }
   },
   "source": [
    "<div class=\"alert alert-block alert-info\">\n",
    "<b>Совет:</b> Для понимания, а какие в итоге факторы важны при моделировании, можно выводить их важность, использую feature_importances_, ну и график заодно. Это будет смотреться очнь здорово: результативная метрика и график важности факторов)))<br> Очень ВАЖНАЯ для аналитики штука. Ведь нам не просто модель с метрикой нужна, а ещё и причины понять высокой/низкой метрики. Т.е. понять с какой силой сами факторы влияют на целевую.\n",
    "</div>\n"
   ]
  },
  {
   "cell_type": "markdown",
   "metadata": {
    "pycharm": {
     "name": "#%% md\n"
    }
   },
   "source": [
    "## Чек-лист готовности проекта"
   ]
  },
  {
   "cell_type": "markdown",
   "metadata": {
    "pycharm": {
     "name": "#%% md\n"
    }
   },
   "source": [
    "Поставьте 'x' в выполненных пунктах. Далее нажмите Shift+Enter."
   ]
  },
  {
   "cell_type": "markdown",
   "metadata": {
    "pycharm": {
     "name": "#%% md\n"
    }
   },
   "source": [
    "- [x]  Jupyter Notebook открыт\n",
    "- [x]  Весь код выполняется без ошибок\n",
    "- [x]  Ячейки с кодом расположены в порядке исполнения\n",
    "- [x]  Выполнен шаг 1: данные подготовлены\n",
    "- [x]  Выполнен шаг 2: задача исследована\n",
    "    - [x]  Исследован баланс классов\n",
    "    - [x]  Изучены модели без учёта дисбаланса\n",
    "    - [x]  Написаны выводы по результатам исследования\n",
    "- [x]  Выполнен шаг 3: учтён дисбаланс\n",
    "    - [x]  Применено несколько способов борьбы с дисбалансом\n",
    "    - [x]  Написаны выводы по результатам исследования\n",
    "- [x]  Выполнен шаг 4: проведено тестирование\n",
    "- [x]  Удалось достичь *F1*-меры не менее 0.59\n",
    "- [x]  Исследована метрика *AUC-ROC*"
   ]
  },
  {
   "cell_type": "code",
   "execution_count": null,
   "metadata": {
    "pycharm": {
     "name": "#%%\n"
    }
   },
   "outputs": [],
   "source": []
  }
 ],
 "metadata": {
  "ExecuteTimeLog": [
   {
    "duration": 1992,
    "start_time": "2023-10-16T13:52:34.489Z"
   },
   {
    "duration": 4,
    "start_time": "2023-10-16T13:53:32.566Z"
   },
   {
    "duration": 165,
    "start_time": "2023-10-16T13:53:44.122Z"
   },
   {
    "duration": 188,
    "start_time": "2023-10-16T13:53:52.278Z"
   },
   {
    "duration": 5,
    "start_time": "2023-10-16T13:54:21.913Z"
   },
   {
    "duration": 3,
    "start_time": "2023-10-16T13:54:22.419Z"
   },
   {
    "duration": 3,
    "start_time": "2023-10-16T13:54:23.569Z"
   },
   {
    "duration": 13,
    "start_time": "2023-10-16T13:54:45.204Z"
   },
   {
    "duration": 81,
    "start_time": "2023-10-16T13:55:58.865Z"
   },
   {
    "duration": 3,
    "start_time": "2023-10-16T13:56:01.602Z"
   },
   {
    "duration": 3,
    "start_time": "2023-10-16T13:56:02.141Z"
   },
   {
    "duration": 89,
    "start_time": "2023-10-16T13:56:02.664Z"
   },
   {
    "duration": 28,
    "start_time": "2023-10-16T13:56:16.006Z"
   },
   {
    "duration": 24,
    "start_time": "2023-10-16T13:56:48.371Z"
   },
   {
    "duration": 16,
    "start_time": "2023-10-16T13:57:56.156Z"
   },
   {
    "duration": 44,
    "start_time": "2023-10-16T13:58:49.850Z"
   },
   {
    "duration": 9116,
    "start_time": "2023-10-16T13:59:08.741Z"
   },
   {
    "duration": 8,
    "start_time": "2023-10-16T14:00:14.126Z"
   },
   {
    "duration": 8,
    "start_time": "2023-10-16T14:00:27.014Z"
   },
   {
    "duration": 5,
    "start_time": "2023-10-16T14:02:53.588Z"
   },
   {
    "duration": 7,
    "start_time": "2023-10-16T14:03:40.798Z"
   },
   {
    "duration": 10,
    "start_time": "2023-10-16T14:03:48.782Z"
   },
   {
    "duration": 547,
    "start_time": "2023-10-16T14:05:04.443Z"
   },
   {
    "duration": 616,
    "start_time": "2023-10-16T14:07:21.395Z"
   },
   {
    "duration": 563,
    "start_time": "2023-10-16T14:07:54.794Z"
   },
   {
    "duration": 15,
    "start_time": "2023-10-16T14:08:37.804Z"
   },
   {
    "duration": 14,
    "start_time": "2023-10-16T14:09:00.409Z"
   },
   {
    "duration": 174,
    "start_time": "2023-10-16T14:09:10.681Z"
   },
   {
    "duration": 44,
    "start_time": "2023-10-16T14:09:24.811Z"
   },
   {
    "duration": 4,
    "start_time": "2023-10-16T14:10:17.993Z"
   },
   {
    "duration": 5,
    "start_time": "2023-10-16T14:11:02.096Z"
   },
   {
    "duration": 4,
    "start_time": "2023-10-16T14:11:56.152Z"
   },
   {
    "duration": 1078603,
    "start_time": "2023-10-16T14:11:56.744Z"
   },
   {
    "duration": 20,
    "start_time": "2023-10-16T14:29:55.350Z"
   },
   {
    "duration": 5,
    "start_time": "2023-10-16T14:30:07.729Z"
   },
   {
    "duration": 4,
    "start_time": "2023-10-16T14:30:08.030Z"
   },
   {
    "duration": 3,
    "start_time": "2023-10-16T14:30:08.288Z"
   },
   {
    "duration": 129,
    "start_time": "2023-10-16T14:30:08.584Z"
   },
   {
    "duration": 31,
    "start_time": "2023-10-16T14:30:08.967Z"
   },
   {
    "duration": 10,
    "start_time": "2023-10-16T14:30:09.912Z"
   },
   {
    "duration": 39,
    "start_time": "2023-10-16T14:30:11.318Z"
   },
   {
    "duration": 6173,
    "start_time": "2023-10-16T14:30:11.737Z"
   },
   {
    "duration": 6,
    "start_time": "2023-10-16T14:30:21.985Z"
   },
   {
    "duration": 7,
    "start_time": "2023-10-16T14:30:22.694Z"
   },
   {
    "duration": 20,
    "start_time": "2023-10-16T14:30:24.766Z"
   },
   {
    "duration": 1752,
    "start_time": "2023-10-16T14:30:45.362Z"
   },
   {
    "duration": 3,
    "start_time": "2023-10-16T14:30:48.165Z"
   },
   {
    "duration": 3,
    "start_time": "2023-10-16T14:30:49.706Z"
   },
   {
    "duration": 99,
    "start_time": "2023-10-16T14:30:50.315Z"
   },
   {
    "duration": 32,
    "start_time": "2023-10-16T14:30:51.397Z"
   },
   {
    "duration": 116,
    "start_time": "2023-10-16T14:30:52.870Z"
   },
   {
    "duration": 15,
    "start_time": "2023-10-16T14:31:17.348Z"
   },
   {
    "duration": 45,
    "start_time": "2023-10-16T14:31:22.141Z"
   },
   {
    "duration": 12,
    "start_time": "2023-10-16T14:31:22.979Z"
   },
   {
    "duration": 9340,
    "start_time": "2023-10-16T14:31:28.737Z"
   },
   {
    "duration": 12,
    "start_time": "2023-10-16T14:31:42.309Z"
   },
   {
    "duration": 11,
    "start_time": "2023-10-16T14:31:45.231Z"
   },
   {
    "duration": 6,
    "start_time": "2023-10-16T14:31:50.201Z"
   },
   {
    "duration": 16,
    "start_time": "2023-10-16T14:32:01.022Z"
   },
   {
    "duration": 7,
    "start_time": "2023-10-16T14:32:04.087Z"
   },
   {
    "duration": 13,
    "start_time": "2023-10-16T14:32:10.498Z"
   },
   {
    "duration": 13,
    "start_time": "2023-10-16T14:32:18.787Z"
   },
   {
    "duration": 151,
    "start_time": "2023-10-16T14:32:24.044Z"
   },
   {
    "duration": 544,
    "start_time": "2023-10-16T14:32:29.654Z"
   },
   {
    "duration": 660,
    "start_time": "2023-10-16T14:32:34.333Z"
   },
   {
    "duration": 558,
    "start_time": "2023-10-16T14:32:43.225Z"
   },
   {
    "duration": 14,
    "start_time": "2023-10-16T14:32:51.112Z"
   },
   {
    "duration": 13,
    "start_time": "2023-10-16T14:32:54.405Z"
   },
   {
    "duration": 34,
    "start_time": "2023-10-16T14:32:56.217Z"
   },
   {
    "duration": 4,
    "start_time": "2023-10-16T14:32:59.983Z"
   },
   {
    "duration": 4,
    "start_time": "2023-10-16T14:33:01.535Z"
   },
   {
    "duration": 1107248,
    "start_time": "2023-10-16T14:33:03.012Z"
   },
   {
    "duration": 4,
    "start_time": "2023-10-16T14:51:36.181Z"
   },
   {
    "duration": 14,
    "start_time": "2023-10-16T14:51:37.786Z"
   },
   {
    "duration": 6,
    "start_time": "2023-10-16T14:51:41.073Z"
   },
   {
    "duration": 57077,
    "start_time": "2023-10-16T14:51:42.450Z"
   },
   {
    "duration": 6,
    "start_time": "2023-10-16T15:02:50.162Z"
   },
   {
    "duration": 3,
    "start_time": "2023-10-16T15:02:50.719Z"
   },
   {
    "duration": 83,
    "start_time": "2023-10-16T15:02:51.189Z"
   },
   {
    "duration": 24,
    "start_time": "2023-10-16T15:02:52.002Z"
   },
   {
    "duration": 4,
    "start_time": "2023-10-16T15:03:35.301Z"
   },
   {
    "duration": 14,
    "start_time": "2023-10-16T15:03:53.168Z"
   },
   {
    "duration": 5,
    "start_time": "2023-10-16T15:06:11.266Z"
   },
   {
    "duration": 6,
    "start_time": "2023-10-16T15:06:19.199Z"
   },
   {
    "duration": 6,
    "start_time": "2023-10-16T15:06:26.505Z"
   },
   {
    "duration": 7,
    "start_time": "2023-10-16T15:06:54.382Z"
   },
   {
    "duration": 27,
    "start_time": "2023-10-16T15:07:15.339Z"
   },
   {
    "duration": 7,
    "start_time": "2023-10-16T15:07:37.670Z"
   },
   {
    "duration": 13,
    "start_time": "2023-10-16T15:07:59.093Z"
   },
   {
    "duration": 10,
    "start_time": "2023-10-16T15:08:13.473Z"
   },
   {
    "duration": 35,
    "start_time": "2023-10-16T15:08:30.386Z"
   },
   {
    "duration": 131,
    "start_time": "2023-10-16T15:08:53.633Z"
   },
   {
    "duration": 246,
    "start_time": "2023-10-16T15:09:05.389Z"
   },
   {
    "duration": 89388,
    "start_time": "2023-10-16T15:09:23.359Z"
   },
   {
    "duration": 178,
    "start_time": "2023-10-16T15:10:56.384Z"
   },
   {
    "duration": 225,
    "start_time": "2023-10-16T15:11:04.889Z"
   },
   {
    "duration": 81520,
    "start_time": "2023-10-16T15:11:23.597Z"
   },
   {
    "duration": 281,
    "start_time": "2023-10-16T15:12:49.677Z"
   },
   {
    "duration": 98,
    "start_time": "2023-10-16T15:13:20.039Z"
   },
   {
    "duration": 7,
    "start_time": "2023-10-16T15:13:35.354Z"
   },
   {
    "duration": 6,
    "start_time": "2023-10-16T15:13:43.873Z"
   },
   {
    "duration": 12,
    "start_time": "2023-10-16T15:14:06.046Z"
   },
   {
    "duration": 34,
    "start_time": "2023-10-16T15:14:46.625Z"
   },
   {
    "duration": 26,
    "start_time": "2023-10-16T15:15:21.433Z"
   },
   {
    "duration": 191,
    "start_time": "2023-10-16T15:15:47.789Z"
   },
   {
    "duration": 7,
    "start_time": "2023-10-16T15:16:37.535Z"
   },
   {
    "duration": 79,
    "start_time": "2023-10-16T15:16:56.383Z"
   },
   {
    "duration": 4,
    "start_time": "2023-10-16T15:17:29.310Z"
   },
   {
    "duration": 5,
    "start_time": "2023-10-16T15:18:05.315Z"
   },
   {
    "duration": 10,
    "start_time": "2023-10-16T15:18:16.046Z"
   },
   {
    "duration": 312,
    "start_time": "2023-10-16T15:18:41.507Z"
   },
   {
    "duration": 279,
    "start_time": "2023-10-16T15:18:58.279Z"
   },
   {
    "duration": 122676,
    "start_time": "2023-10-16T15:19:17.249Z"
   },
   {
    "duration": 12,
    "start_time": "2023-10-16T15:21:25.576Z"
   },
   {
    "duration": 189,
    "start_time": "2023-10-16T15:21:43.498Z"
   },
   {
    "duration": 312,
    "start_time": "2023-10-16T15:22:02.652Z"
   },
   {
    "duration": 61783,
    "start_time": "2023-10-16T15:22:35.001Z"
   },
   {
    "duration": 18,
    "start_time": "2023-10-16T15:24:44.010Z"
   },
   {
    "duration": 11,
    "start_time": "2023-10-16T15:25:07.701Z"
   },
   {
    "duration": 32,
    "start_time": "2023-10-16T15:25:36.518Z"
   },
   {
    "duration": 181,
    "start_time": "2023-10-16T15:25:59.197Z"
   },
   {
    "duration": 13,
    "start_time": "2023-10-16T15:27:22.289Z"
   },
   {
    "duration": 13,
    "start_time": "2023-10-16T15:27:35.695Z"
   },
   {
    "duration": 5,
    "start_time": "2023-10-16T15:27:54.584Z"
   },
   {
    "duration": 11,
    "start_time": "2023-10-16T15:28:08.607Z"
   },
   {
    "duration": 303,
    "start_time": "2023-10-16T15:33:45.398Z"
   },
   {
    "duration": 37,
    "start_time": "2023-10-16T15:34:13.197Z"
   },
   {
    "duration": 134,
    "start_time": "2023-10-16T15:34:46.999Z"
   },
   {
    "duration": 1752,
    "start_time": "2023-10-17T13:41:23.985Z"
   },
   {
    "duration": 2,
    "start_time": "2023-10-17T13:41:25.739Z"
   },
   {
    "duration": 153,
    "start_time": "2023-10-17T13:41:25.744Z"
   },
   {
    "duration": 26,
    "start_time": "2023-10-17T13:41:25.899Z"
   },
   {
    "duration": 15,
    "start_time": "2023-10-17T13:41:25.927Z"
   },
   {
    "duration": 26,
    "start_time": "2023-10-17T13:41:25.946Z"
   },
   {
    "duration": 8,
    "start_time": "2023-10-17T13:41:25.973Z"
   },
   {
    "duration": 31,
    "start_time": "2023-10-17T13:41:25.983Z"
   },
   {
    "duration": 17,
    "start_time": "2023-10-17T13:41:26.016Z"
   },
   {
    "duration": 43,
    "start_time": "2023-10-17T13:41:26.035Z"
   },
   {
    "duration": 44,
    "start_time": "2023-10-17T13:41:26.080Z"
   },
   {
    "duration": 14,
    "start_time": "2023-10-17T13:41:26.125Z"
   },
   {
    "duration": 52,
    "start_time": "2023-10-17T13:41:26.140Z"
   },
   {
    "duration": 37,
    "start_time": "2023-10-17T13:41:26.195Z"
   },
   {
    "duration": 76,
    "start_time": "2023-10-17T13:41:26.233Z"
   },
   {
    "duration": 265,
    "start_time": "2023-10-17T13:41:26.312Z"
   },
   {
    "duration": 85576,
    "start_time": "2023-10-17T13:41:26.579Z"
   },
   {
    "duration": 1204,
    "start_time": "2023-10-17T13:42:52.158Z"
   },
   {
    "duration": 322,
    "start_time": "2023-10-17T13:42:53.445Z"
   },
   {
    "duration": 77785,
    "start_time": "2023-10-17T13:42:53.769Z"
   },
   {
    "duration": 189,
    "start_time": "2023-10-17T13:44:11.556Z"
   },
   {
    "duration": 16,
    "start_time": "2023-10-17T13:44:11.747Z"
   },
   {
    "duration": 37,
    "start_time": "2023-10-17T13:44:11.844Z"
   },
   {
    "duration": 69,
    "start_time": "2023-10-17T13:44:11.882Z"
   },
   {
    "duration": 277,
    "start_time": "2023-10-17T13:44:11.953Z"
   },
   {
    "duration": 16,
    "start_time": "2023-10-17T13:44:12.232Z"
   },
   {
    "duration": 125,
    "start_time": "2023-10-17T13:44:12.250Z"
   },
   {
    "duration": 6,
    "start_time": "2023-10-17T13:44:12.377Z"
   },
   {
    "duration": 27,
    "start_time": "2023-10-17T13:44:12.385Z"
   },
   {
    "duration": 37,
    "start_time": "2023-10-17T13:44:12.414Z"
   },
   {
    "duration": 325,
    "start_time": "2023-10-17T13:44:12.454Z"
   },
   {
    "duration": 569,
    "start_time": "2023-10-17T13:44:12.781Z"
   },
   {
    "duration": 110267,
    "start_time": "2023-10-17T13:44:13.356Z"
   },
   {
    "duration": 10,
    "start_time": "2023-10-17T13:46:03.624Z"
   },
   {
    "duration": 187,
    "start_time": "2023-10-17T13:46:03.636Z"
   },
   {
    "duration": 434,
    "start_time": "2023-10-17T13:46:03.824Z"
   },
   {
    "duration": 58185,
    "start_time": "2023-10-17T13:46:04.346Z"
   },
   {
    "duration": 118,
    "start_time": "2023-10-17T13:47:02.532Z"
   },
   {
    "duration": 93,
    "start_time": "2023-10-17T13:47:02.652Z"
   },
   {
    "duration": 30,
    "start_time": "2023-10-17T13:47:02.747Z"
   },
   {
    "duration": 192,
    "start_time": "2023-10-17T13:47:02.780Z"
   },
   {
    "duration": 10,
    "start_time": "2023-10-17T13:47:02.974Z"
   },
   {
    "duration": 326,
    "start_time": "2023-10-17T13:47:02.986Z"
   },
   {
    "duration": 46,
    "start_time": "2023-10-17T13:47:03.314Z"
   },
   {
    "duration": 149,
    "start_time": "2023-10-17T13:47:03.362Z"
   },
   {
    "duration": 1597,
    "start_time": "2023-10-18T12:43:03.564Z"
   },
   {
    "duration": 2,
    "start_time": "2023-10-18T12:43:05.163Z"
   },
   {
    "duration": 124,
    "start_time": "2023-10-18T12:43:05.167Z"
   },
   {
    "duration": 24,
    "start_time": "2023-10-18T12:43:05.293Z"
   },
   {
    "duration": 5,
    "start_time": "2023-10-18T12:43:05.318Z"
   },
   {
    "duration": 13,
    "start_time": "2023-10-18T12:43:05.324Z"
   },
   {
    "duration": 3,
    "start_time": "2023-10-18T12:43:05.338Z"
   },
   {
    "duration": 12,
    "start_time": "2023-10-18T12:43:05.342Z"
   },
   {
    "duration": 4,
    "start_time": "2023-10-18T12:43:05.356Z"
   },
   {
    "duration": 8,
    "start_time": "2023-10-18T12:43:05.362Z"
   },
   {
    "duration": 24,
    "start_time": "2023-10-18T12:43:05.371Z"
   },
   {
    "duration": 6,
    "start_time": "2023-10-18T12:43:05.396Z"
   },
   {
    "duration": 10,
    "start_time": "2023-10-18T12:43:05.403Z"
   },
   {
    "duration": 15,
    "start_time": "2023-10-18T12:43:05.414Z"
   },
   {
    "duration": 31,
    "start_time": "2023-10-18T12:43:05.430Z"
   },
   {
    "duration": 258,
    "start_time": "2023-10-18T12:43:05.462Z"
   },
   {
    "duration": 80214,
    "start_time": "2023-10-18T12:43:05.721Z"
   },
   {
    "duration": 113,
    "start_time": "2023-10-18T12:44:25.936Z"
   },
   {
    "duration": 321,
    "start_time": "2023-10-18T12:44:26.140Z"
   },
   {
    "duration": 74387,
    "start_time": "2023-10-18T12:44:26.462Z"
   },
   {
    "duration": 96,
    "start_time": "2023-10-18T12:45:40.851Z"
   },
   {
    "duration": 11,
    "start_time": "2023-10-18T12:45:41.039Z"
   },
   {
    "duration": 26,
    "start_time": "2023-10-18T12:45:41.140Z"
   },
   {
    "duration": 11,
    "start_time": "2023-10-18T12:45:41.168Z"
   },
   {
    "duration": 252,
    "start_time": "2023-10-18T12:45:41.240Z"
   },
   {
    "duration": 6,
    "start_time": "2023-10-18T12:45:41.493Z"
   },
   {
    "duration": 79,
    "start_time": "2023-10-18T12:45:41.500Z"
   },
   {
    "duration": 4,
    "start_time": "2023-10-18T12:45:41.582Z"
   },
   {
    "duration": 7,
    "start_time": "2023-10-18T12:45:41.588Z"
   },
   {
    "duration": 8,
    "start_time": "2023-10-18T12:45:41.598Z"
   },
   {
    "duration": 307,
    "start_time": "2023-10-18T12:45:41.608Z"
   },
   {
    "duration": 130,
    "start_time": "2023-10-18T12:45:41.916Z"
   },
   {
    "duration": 106658,
    "start_time": "2023-10-18T12:45:42.048Z"
   },
   {
    "duration": 9,
    "start_time": "2023-10-18T12:47:28.707Z"
   },
   {
    "duration": 162,
    "start_time": "2023-10-18T12:47:28.718Z"
   },
   {
    "duration": 162,
    "start_time": "2023-10-18T12:47:28.882Z"
   },
   {
    "duration": 54562,
    "start_time": "2023-10-18T12:47:29.046Z"
   },
   {
    "duration": 38,
    "start_time": "2023-10-18T12:48:23.609Z"
   },
   {
    "duration": 98,
    "start_time": "2023-10-18T12:48:23.648Z"
   },
   {
    "duration": 99,
    "start_time": "2023-10-18T12:48:23.748Z"
   },
   {
    "duration": 157,
    "start_time": "2023-10-18T12:48:23.848Z"
   },
   {
    "duration": 7,
    "start_time": "2023-10-18T12:48:24.007Z"
   },
   {
    "duration": 291,
    "start_time": "2023-10-18T12:48:24.015Z"
   },
   {
    "duration": 35,
    "start_time": "2023-10-18T12:48:24.307Z"
   },
   {
    "duration": 98,
    "start_time": "2023-10-18T12:48:24.344Z"
   },
   {
    "duration": 1232,
    "start_time": "2023-10-18T12:49:25.701Z"
   },
   {
    "duration": 2,
    "start_time": "2023-10-18T12:49:26.935Z"
   },
   {
    "duration": 115,
    "start_time": "2023-10-18T12:49:26.939Z"
   },
   {
    "duration": 23,
    "start_time": "2023-10-18T12:49:27.056Z"
   },
   {
    "duration": 3,
    "start_time": "2023-10-18T12:49:27.083Z"
   },
   {
    "duration": 30,
    "start_time": "2023-10-18T12:49:27.087Z"
   },
   {
    "duration": 30,
    "start_time": "2023-10-18T12:49:27.118Z"
   },
   {
    "duration": 20,
    "start_time": "2023-10-18T12:49:27.150Z"
   },
   {
    "duration": 25,
    "start_time": "2023-10-18T12:49:27.172Z"
   },
   {
    "duration": 26,
    "start_time": "2023-10-18T12:49:27.199Z"
   },
   {
    "duration": 36,
    "start_time": "2023-10-18T12:49:27.227Z"
   },
   {
    "duration": 13,
    "start_time": "2023-10-18T12:49:27.265Z"
   },
   {
    "duration": 42,
    "start_time": "2023-10-18T12:49:27.279Z"
   },
   {
    "duration": 36,
    "start_time": "2023-10-18T12:49:27.324Z"
   },
   {
    "duration": 37,
    "start_time": "2023-10-18T12:49:27.361Z"
   },
   {
    "duration": 243,
    "start_time": "2023-10-18T12:49:27.399Z"
   },
   {
    "duration": 80336,
    "start_time": "2023-10-18T12:49:27.643Z"
   },
   {
    "duration": 66,
    "start_time": "2023-10-18T12:50:47.980Z"
   },
   {
    "duration": 201,
    "start_time": "2023-10-18T12:50:48.139Z"
   },
   {
    "duration": 0,
    "start_time": "2023-10-18T12:50:48.342Z"
   },
   {
    "duration": 0,
    "start_time": "2023-10-18T12:50:48.344Z"
   },
   {
    "duration": 0,
    "start_time": "2023-10-18T12:50:48.345Z"
   },
   {
    "duration": 0,
    "start_time": "2023-10-18T12:50:48.346Z"
   },
   {
    "duration": 0,
    "start_time": "2023-10-18T12:50:48.347Z"
   },
   {
    "duration": 0,
    "start_time": "2023-10-18T12:50:48.348Z"
   },
   {
    "duration": 0,
    "start_time": "2023-10-18T12:50:48.349Z"
   },
   {
    "duration": 0,
    "start_time": "2023-10-18T12:50:48.350Z"
   },
   {
    "duration": 0,
    "start_time": "2023-10-18T12:50:48.350Z"
   },
   {
    "duration": 0,
    "start_time": "2023-10-18T12:50:48.351Z"
   },
   {
    "duration": 0,
    "start_time": "2023-10-18T12:50:48.352Z"
   },
   {
    "duration": 0,
    "start_time": "2023-10-18T12:50:48.353Z"
   },
   {
    "duration": 0,
    "start_time": "2023-10-18T12:50:48.354Z"
   },
   {
    "duration": 0,
    "start_time": "2023-10-18T12:50:48.355Z"
   },
   {
    "duration": 0,
    "start_time": "2023-10-18T12:50:48.356Z"
   },
   {
    "duration": 0,
    "start_time": "2023-10-18T12:50:48.357Z"
   },
   {
    "duration": 0,
    "start_time": "2023-10-18T12:50:48.358Z"
   },
   {
    "duration": 0,
    "start_time": "2023-10-18T12:50:48.359Z"
   },
   {
    "duration": 0,
    "start_time": "2023-10-18T12:50:48.359Z"
   },
   {
    "duration": 0,
    "start_time": "2023-10-18T12:50:48.360Z"
   },
   {
    "duration": 0,
    "start_time": "2023-10-18T12:50:48.361Z"
   },
   {
    "duration": 0,
    "start_time": "2023-10-18T12:50:48.362Z"
   },
   {
    "duration": 0,
    "start_time": "2023-10-18T12:50:48.363Z"
   },
   {
    "duration": 0,
    "start_time": "2023-10-18T12:50:48.364Z"
   },
   {
    "duration": 0,
    "start_time": "2023-10-18T12:50:48.364Z"
   },
   {
    "duration": 0,
    "start_time": "2023-10-18T12:50:48.365Z"
   },
   {
    "duration": 15,
    "start_time": "2023-10-18T12:52:35.664Z"
   },
   {
    "duration": 14,
    "start_time": "2023-10-18T12:52:37.841Z"
   },
   {
    "duration": 14,
    "start_time": "2023-10-18T12:52:50.407Z"
   },
   {
    "duration": 261,
    "start_time": "2023-10-18T12:54:56.037Z"
   },
   {
    "duration": 12,
    "start_time": "2023-10-18T12:55:21.813Z"
   },
   {
    "duration": 228,
    "start_time": "2023-10-18T12:55:49.797Z"
   },
   {
    "duration": 120,
    "start_time": "2023-10-18T12:56:41.850Z"
   },
   {
    "duration": 42001,
    "start_time": "2023-10-18T12:57:19.946Z"
   },
   {
    "duration": 1335,
    "start_time": "2023-10-18T12:59:47.020Z"
   },
   {
    "duration": 2,
    "start_time": "2023-10-18T12:59:48.357Z"
   },
   {
    "duration": 87,
    "start_time": "2023-10-18T12:59:48.360Z"
   },
   {
    "duration": 21,
    "start_time": "2023-10-18T12:59:48.449Z"
   },
   {
    "duration": 3,
    "start_time": "2023-10-18T12:59:48.473Z"
   },
   {
    "duration": 11,
    "start_time": "2023-10-18T12:59:48.477Z"
   },
   {
    "duration": 4,
    "start_time": "2023-10-18T12:59:48.489Z"
   },
   {
    "duration": 8,
    "start_time": "2023-10-18T12:59:48.494Z"
   },
   {
    "duration": 37,
    "start_time": "2023-10-18T12:59:48.503Z"
   },
   {
    "duration": 5,
    "start_time": "2023-10-18T12:59:48.542Z"
   },
   {
    "duration": 25,
    "start_time": "2023-10-18T12:59:48.548Z"
   },
   {
    "duration": 5,
    "start_time": "2023-10-18T12:59:48.574Z"
   },
   {
    "duration": 8,
    "start_time": "2023-10-18T12:59:48.580Z"
   },
   {
    "duration": 7,
    "start_time": "2023-10-18T12:59:48.591Z"
   },
   {
    "duration": 57,
    "start_time": "2023-10-18T12:59:48.599Z"
   },
   {
    "duration": 242,
    "start_time": "2023-10-18T12:59:48.657Z"
   },
   {
    "duration": 82268,
    "start_time": "2023-10-18T12:59:48.901Z"
   },
   {
    "duration": 170,
    "start_time": "2023-10-18T13:01:11.171Z"
   },
   {
    "duration": 218,
    "start_time": "2023-10-18T13:01:11.349Z"
   },
   {
    "duration": 41384,
    "start_time": "2023-10-18T13:01:11.568Z"
   },
   {
    "duration": 201,
    "start_time": "2023-10-18T13:01:52.954Z"
   },
   {
    "duration": 12,
    "start_time": "2023-10-18T13:01:53.240Z"
   },
   {
    "duration": 104,
    "start_time": "2023-10-18T13:01:53.258Z"
   },
   {
    "duration": 11,
    "start_time": "2023-10-18T13:01:53.363Z"
   },
   {
    "duration": 320,
    "start_time": "2023-10-18T13:01:53.376Z"
   },
   {
    "duration": 7,
    "start_time": "2023-10-18T13:01:53.698Z"
   },
   {
    "duration": 94,
    "start_time": "2023-10-18T13:01:53.707Z"
   },
   {
    "duration": 6,
    "start_time": "2023-10-18T13:01:53.803Z"
   },
   {
    "duration": 9,
    "start_time": "2023-10-18T13:01:53.810Z"
   },
   {
    "duration": 22,
    "start_time": "2023-10-18T13:01:53.821Z"
   },
   {
    "duration": 296,
    "start_time": "2023-10-18T13:01:53.849Z"
   },
   {
    "duration": 99,
    "start_time": "2023-10-18T13:01:54.147Z"
   },
   {
    "duration": 108409,
    "start_time": "2023-10-18T13:01:54.248Z"
   },
   {
    "duration": 9,
    "start_time": "2023-10-18T13:03:42.659Z"
   },
   {
    "duration": 173,
    "start_time": "2023-10-18T13:03:42.670Z"
   },
   {
    "duration": 21,
    "start_time": "2023-10-18T13:03:42.845Z"
   },
   {
    "duration": 55015,
    "start_time": "2023-10-18T13:03:42.940Z"
   },
   {
    "duration": 9,
    "start_time": "2023-10-18T13:04:37.956Z"
   },
   {
    "duration": 75,
    "start_time": "2023-10-18T13:04:37.966Z"
   },
   {
    "duration": 107,
    "start_time": "2023-10-18T13:04:38.043Z"
   },
   {
    "duration": 169,
    "start_time": "2023-10-18T13:04:38.154Z"
   },
   {
    "duration": 16,
    "start_time": "2023-10-18T13:04:38.325Z"
   },
   {
    "duration": 308,
    "start_time": "2023-10-18T13:04:38.343Z"
   },
   {
    "duration": 31,
    "start_time": "2023-10-18T13:04:38.652Z"
   },
   {
    "duration": 118,
    "start_time": "2023-10-18T13:04:38.684Z"
   },
   {
    "duration": 114,
    "start_time": "2023-10-19T00:32:22.536Z"
   },
   {
    "duration": 1580,
    "start_time": "2023-10-19T00:44:10.293Z"
   },
   {
    "duration": 2,
    "start_time": "2023-10-19T00:44:11.875Z"
   },
   {
    "duration": 253,
    "start_time": "2023-10-19T00:44:11.879Z"
   },
   {
    "duration": 25,
    "start_time": "2023-10-19T00:44:12.134Z"
   },
   {
    "duration": 3,
    "start_time": "2023-10-19T00:44:12.163Z"
   },
   {
    "duration": 15,
    "start_time": "2023-10-19T00:44:12.167Z"
   },
   {
    "duration": 4,
    "start_time": "2023-10-19T00:44:12.183Z"
   },
   {
    "duration": 15,
    "start_time": "2023-10-19T00:44:12.189Z"
   },
   {
    "duration": 7,
    "start_time": "2023-10-19T00:44:12.206Z"
   },
   {
    "duration": 8,
    "start_time": "2023-10-19T00:44:12.214Z"
   },
   {
    "duration": 28,
    "start_time": "2023-10-19T00:44:12.223Z"
   },
   {
    "duration": 5,
    "start_time": "2023-10-19T00:44:12.253Z"
   },
   {
    "duration": 19,
    "start_time": "2023-10-19T00:44:12.260Z"
   },
   {
    "duration": 10,
    "start_time": "2023-10-19T00:44:12.300Z"
   },
   {
    "duration": 29,
    "start_time": "2023-10-19T00:44:12.312Z"
   },
   {
    "duration": 250,
    "start_time": "2023-10-19T00:44:12.342Z"
   },
   {
    "duration": 81010,
    "start_time": "2023-10-19T00:44:12.594Z"
   },
   {
    "duration": 204,
    "start_time": "2023-10-19T00:45:33.606Z"
   },
   {
    "duration": 332,
    "start_time": "2023-10-19T00:45:33.902Z"
   },
   {
    "duration": 80956,
    "start_time": "2023-10-19T00:45:34.236Z"
   },
   {
    "duration": 213,
    "start_time": "2023-10-19T00:46:55.194Z"
   },
   {
    "duration": 193,
    "start_time": "2023-10-19T00:46:55.409Z"
   },
   {
    "duration": 29,
    "start_time": "2023-10-19T00:46:55.605Z"
   },
   {
    "duration": 69,
    "start_time": "2023-10-19T00:46:55.636Z"
   },
   {
    "duration": 288,
    "start_time": "2023-10-19T00:46:55.707Z"
   },
   {
    "duration": 9,
    "start_time": "2023-10-19T00:46:55.997Z"
   },
   {
    "duration": 97,
    "start_time": "2023-10-19T00:46:56.008Z"
   },
   {
    "duration": 5,
    "start_time": "2023-10-19T00:46:56.107Z"
   },
   {
    "duration": 40,
    "start_time": "2023-10-19T00:46:56.114Z"
   },
   {
    "duration": 28,
    "start_time": "2023-10-19T00:46:56.156Z"
   },
   {
    "duration": 295,
    "start_time": "2023-10-19T00:46:56.186Z"
   },
   {
    "duration": 319,
    "start_time": "2023-10-19T00:46:56.483Z"
   },
   {
    "duration": 104400,
    "start_time": "2023-10-19T00:46:56.805Z"
   },
   {
    "duration": 10,
    "start_time": "2023-10-19T00:48:41.207Z"
   },
   {
    "duration": 183,
    "start_time": "2023-10-19T00:48:41.219Z"
   },
   {
    "duration": 205,
    "start_time": "2023-10-19T00:48:41.405Z"
   },
   {
    "duration": 55912,
    "start_time": "2023-10-19T00:48:41.701Z"
   },
   {
    "duration": 93,
    "start_time": "2023-10-19T00:49:37.615Z"
   },
   {
    "duration": 95,
    "start_time": "2023-10-19T00:49:37.714Z"
   },
   {
    "duration": 29,
    "start_time": "2023-10-19T00:49:37.810Z"
   },
   {
    "duration": 210,
    "start_time": "2023-10-19T00:49:37.842Z"
   },
   {
    "duration": 10,
    "start_time": "2023-10-19T00:49:38.053Z"
   },
   {
    "duration": 290,
    "start_time": "2023-10-19T00:49:38.065Z"
   },
   {
    "duration": 44,
    "start_time": "2023-10-19T00:49:38.357Z"
   },
   {
    "duration": 124,
    "start_time": "2023-10-19T00:49:38.403Z"
   },
   {
    "duration": 1597,
    "start_time": "2024-01-09T13:20:01.342Z"
   },
   {
    "duration": 3,
    "start_time": "2024-01-09T13:20:02.942Z"
   },
   {
    "duration": 146,
    "start_time": "2024-01-09T13:20:02.947Z"
   },
   {
    "duration": 28,
    "start_time": "2024-01-09T13:20:03.094Z"
   },
   {
    "duration": 11,
    "start_time": "2024-01-09T13:20:03.125Z"
   },
   {
    "duration": 38,
    "start_time": "2024-01-09T13:20:03.137Z"
   },
   {
    "duration": 29,
    "start_time": "2024-01-09T13:20:03.176Z"
   },
   {
    "duration": 17,
    "start_time": "2024-01-09T13:20:03.207Z"
   },
   {
    "duration": 8,
    "start_time": "2024-01-09T13:20:03.225Z"
   },
   {
    "duration": 36,
    "start_time": "2024-01-09T13:20:03.234Z"
   },
   {
    "duration": 44,
    "start_time": "2024-01-09T13:20:03.271Z"
   },
   {
    "duration": 39,
    "start_time": "2024-01-09T13:20:03.316Z"
   },
   {
    "duration": 71,
    "start_time": "2024-01-09T13:20:03.357Z"
   },
   {
    "duration": 32,
    "start_time": "2024-01-09T13:20:03.432Z"
   },
   {
    "duration": 38,
    "start_time": "2024-01-09T13:20:03.466Z"
   },
   {
    "duration": 230,
    "start_time": "2024-01-09T13:20:03.506Z"
   },
   {
    "duration": 76605,
    "start_time": "2024-01-09T13:20:03.737Z"
   },
   {
    "duration": 223,
    "start_time": "2024-01-09T13:21:20.344Z"
   },
   {
    "duration": 312,
    "start_time": "2024-01-09T13:21:20.569Z"
   },
   {
    "duration": 77896,
    "start_time": "2024-01-09T13:21:20.883Z"
   },
   {
    "duration": 388,
    "start_time": "2024-01-09T13:22:38.781Z"
   },
   {
    "duration": 100,
    "start_time": "2024-01-09T13:22:39.172Z"
   },
   {
    "duration": 31,
    "start_time": "2024-01-09T13:22:39.274Z"
   },
   {
    "duration": 61,
    "start_time": "2024-01-09T13:22:39.306Z"
   },
   {
    "duration": 265,
    "start_time": "2024-01-09T13:22:39.369Z"
   },
   {
    "duration": 6,
    "start_time": "2024-01-09T13:22:39.636Z"
   },
   {
    "duration": 83,
    "start_time": "2024-01-09T13:22:39.644Z"
   },
   {
    "duration": 4,
    "start_time": "2024-01-09T13:22:39.728Z"
   },
   {
    "duration": 33,
    "start_time": "2024-01-09T13:22:39.734Z"
   },
   {
    "duration": 14,
    "start_time": "2024-01-09T13:22:39.768Z"
   },
   {
    "duration": 266,
    "start_time": "2024-01-09T13:22:39.784Z"
   },
   {
    "duration": 120,
    "start_time": "2024-01-09T13:22:40.052Z"
   },
   {
    "duration": 99373,
    "start_time": "2024-01-09T13:22:40.174Z"
   },
   {
    "duration": 16,
    "start_time": "2024-01-09T13:24:19.549Z"
   },
   {
    "duration": 153,
    "start_time": "2024-01-09T13:24:19.567Z"
   },
   {
    "duration": 149,
    "start_time": "2024-01-09T13:24:19.722Z"
   },
   {
    "duration": 52860,
    "start_time": "2024-01-09T13:24:19.874Z"
   },
   {
    "duration": 31,
    "start_time": "2024-01-09T13:25:12.736Z"
   },
   {
    "duration": 101,
    "start_time": "2024-01-09T13:25:12.769Z"
   },
   {
    "duration": 28,
    "start_time": "2024-01-09T13:25:12.871Z"
   },
   {
    "duration": 215,
    "start_time": "2024-01-09T13:25:12.903Z"
   },
   {
    "duration": 9,
    "start_time": "2024-01-09T13:25:13.119Z"
   },
   {
    "duration": 279,
    "start_time": "2024-01-09T13:25:13.130Z"
   },
   {
    "duration": 34,
    "start_time": "2024-01-09T13:25:13.410Z"
   },
   {
    "duration": 122,
    "start_time": "2024-01-09T13:25:13.446Z"
   }
  ],
  "kernelspec": {
   "display_name": "Python 3 (ipykernel)",
   "language": "python",
   "name": "python3"
  },
  "language_info": {
   "codemirror_mode": {
    "name": "ipython",
    "version": 3
   },
   "file_extension": ".py",
   "mimetype": "text/x-python",
   "name": "python",
   "nbconvert_exporter": "python",
   "pygments_lexer": "ipython3",
   "version": "3.9.5"
  },
  "toc": {
   "base_numbering": 1,
   "nav_menu": {},
   "number_sections": true,
   "sideBar": true,
   "skip_h1_title": true,
   "title_cell": "Содержание",
   "title_sidebar": "Contents",
   "toc_cell": true,
   "toc_position": {},
   "toc_section_display": true,
   "toc_window_display": true
  }
 },
 "nbformat": 4,
 "nbformat_minor": 2
}